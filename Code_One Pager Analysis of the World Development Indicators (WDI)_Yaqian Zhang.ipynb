{
 "cells": [
  {
   "cell_type": "markdown",
   "metadata": {},
   "source": [
    "# One pager analysis of the World Development Indicators (WDI)\n",
    "## Yaqian (Gloria) Zhang\n",
    "\n",
    "##  Summary:\n",
    "\n",
    "### The pager includes four parts, Pull Data, Data Wrangling, Visualization, and Appendix. \n",
    "\n",
    "### The original data was got from the World Bank API using Python. Data wrangling tasks conducted includes data exploration, data clean (delete nan value), transformation (change data type, bin data, generate new columns, group data, re-index), and three datasets (df, df2, df3) have been generated after that for further use. \n",
    "\n",
    "### Visualization part includes one chart highlighting the main result of my analysis. The chart in visualization part is generate to provide time serials analysis for Life Expectancy at Birth (LE). And main findings are listed as follows. 1) average of Life Expectancy at Birth keep increasing over time (1960 - 2017), and the growth rate after Year 1986 is slight small than that before 1986. 2) Most LE data falls between 42 and 78. High LE data (LE > 78) began to appear after 1986, and low LE data (LE < 42) disappear after 2002. 3）Although for most countries, LE increased over time, there are several special cases in which LE decreased over time. Cambodia's LE dropped dramatically from 43 in 1968 to 19 in 1977, and then increased back to 44 until 1983. Timor-Lester's LE dropped from 39 in 1972 to 33 in 1978, and then increased back to 40 until 1983. Rwanda's LE dropped dramatically from 52 in 1984 to 26 in 1993, and then increased back to 52 until 2003. Sierra Leone's LE dropped from 41 in 1983 to 37 in 1995, and then increased back to 41 until 2002. Abd further research could be done to look into what happens in those time periods, and discover why those happens (war, diseases, etc.).\n",
    "\n",
    "### Appendix part includes another chart and findings based on that. The chart in appendix part is generate based on df3, using top 10 and tail 10 countries' Life Expectancy at Birth (LE) data. And the findings are listed as follows. 1) All tail 10 countries' LE is between 28 and 64, and all top 10 countries' LE is between 68 and 85. And the change interval for top 10 countries' LE is much smaller than that for the tail 10 countries' LE. 2) For most tail 10 countries' LE, it increased slowly in first several years, while the increase rate turns larger after certain time points. And for most top 10 countries' LE, it increased quickly in first several years, while the increase rate turns smaller after certain time points. 3) There are three countries from the top 10 have very limit data points, and further supporting data should be collected to clarify the life expectancy of birth status for those countries.\n",
    "\n",
    "### Please refer below for the charts, and the codes."
   ]
  },
  {
   "cell_type": "markdown",
   "metadata": {},
   "source": [
    "### 1)  Pull data from an API"
   ]
  },
  {
   "cell_type": "code",
   "execution_count": 1,
   "metadata": {},
   "outputs": [
    {
     "name": "stdout",
     "output_type": "stream",
     "text": [
      "Requirement already satisfied: wbdata in /usr/local/anaconda3/lib/python3.7/site-packages (0.2.7)\n",
      "Requirement already satisfied: decorator in /usr/local/anaconda3/lib/python3.7/site-packages (from wbdata) (4.4.0)\n",
      "Requirement already satisfied: seaborn in /usr/local/anaconda3/lib/python3.7/site-packages (0.9.0)\n",
      "Requirement already satisfied: matplotlib>=1.4.3 in /usr/local/anaconda3/lib/python3.7/site-packages (from seaborn) (3.0.3)\n",
      "Requirement already satisfied: numpy>=1.9.3 in /usr/local/anaconda3/lib/python3.7/site-packages (from seaborn) (1.16.2)\n",
      "Requirement already satisfied: scipy>=0.14.0 in /usr/local/anaconda3/lib/python3.7/site-packages (from seaborn) (1.2.1)\n",
      "Requirement already satisfied: pandas>=0.15.2 in /usr/local/anaconda3/lib/python3.7/site-packages (from seaborn) (0.24.2)\n",
      "Requirement already satisfied: cycler>=0.10 in /usr/local/anaconda3/lib/python3.7/site-packages (from matplotlib>=1.4.3->seaborn) (0.10.0)\n",
      "Requirement already satisfied: kiwisolver>=1.0.1 in /usr/local/anaconda3/lib/python3.7/site-packages (from matplotlib>=1.4.3->seaborn) (1.0.1)\n",
      "Requirement already satisfied: pyparsing!=2.0.4,!=2.1.2,!=2.1.6,>=2.0.1 in /usr/local/anaconda3/lib/python3.7/site-packages (from matplotlib>=1.4.3->seaborn) (2.3.1)\n",
      "Requirement already satisfied: python-dateutil>=2.1 in /usr/local/anaconda3/lib/python3.7/site-packages (from matplotlib>=1.4.3->seaborn) (2.8.0)\n",
      "Requirement already satisfied: pytz>=2011k in /usr/local/anaconda3/lib/python3.7/site-packages (from pandas>=0.15.2->seaborn) (2018.9)\n",
      "Requirement already satisfied: six in /usr/local/anaconda3/lib/python3.7/site-packages (from cycler>=0.10->matplotlib>=1.4.3->seaborn) (1.12.0)\n",
      "Requirement already satisfied: setuptools in /usr/local/anaconda3/lib/python3.7/site-packages (from kiwisolver>=1.0.1->matplotlib>=1.4.3->seaborn) (40.8.0)\n",
      "Requirement already satisfied: plotly in /usr/local/anaconda3/lib/python3.7/site-packages (4.3.0)\n",
      "Requirement already satisfied: six in /usr/local/anaconda3/lib/python3.7/site-packages (from plotly) (1.12.0)\n",
      "Requirement already satisfied: retrying>=1.3.3 in /usr/local/anaconda3/lib/python3.7/site-packages (from plotly) (1.3.3)\n"
     ]
    },
    {
     "data": {
      "text/html": [
       "        <script type=\"text/javascript\">\n",
       "        window.PlotlyConfig = {MathJaxConfig: 'local'};\n",
       "        if (window.MathJax) {MathJax.Hub.Config({SVG: {font: \"STIX-Web\"}});}\n",
       "        if (typeof require !== 'undefined') {\n",
       "        require.undef(\"plotly\");\n",
       "        requirejs.config({\n",
       "            paths: {\n",
       "                'plotly': ['https://cdn.plot.ly/plotly-latest.min']\n",
       "            }\n",
       "        });\n",
       "        require(['plotly'], function(Plotly) {\n",
       "            window._Plotly = Plotly;\n",
       "        });\n",
       "        }\n",
       "        </script>\n",
       "        "
      ]
     },
     "metadata": {},
     "output_type": "display_data"
    },
    {
     "data": {
      "text/html": [
       "<div>\n",
       "<style scoped>\n",
       "    .dataframe tbody tr th:only-of-type {\n",
       "        vertical-align: middle;\n",
       "    }\n",
       "\n",
       "    .dataframe tbody tr th {\n",
       "        vertical-align: top;\n",
       "    }\n",
       "\n",
       "    .dataframe thead th {\n",
       "        text-align: right;\n",
       "    }\n",
       "</style>\n",
       "<table border=\"1\" class=\"dataframe\">\n",
       "  <thead>\n",
       "    <tr style=\"text-align: right;\">\n",
       "      <th></th>\n",
       "      <th></th>\n",
       "      <th>life_expectancy_at_birth</th>\n",
       "    </tr>\n",
       "    <tr>\n",
       "      <th>country</th>\n",
       "      <th>date</th>\n",
       "      <th></th>\n",
       "    </tr>\n",
       "  </thead>\n",
       "  <tbody>\n",
       "    <tr>\n",
       "      <th rowspan=\"5\" valign=\"top\">Arab World</th>\n",
       "      <th>2019</th>\n",
       "      <td>NaN</td>\n",
       "    </tr>\n",
       "    <tr>\n",
       "      <th>2018</th>\n",
       "      <td>NaN</td>\n",
       "    </tr>\n",
       "    <tr>\n",
       "      <th>2017</th>\n",
       "      <td>71.622526</td>\n",
       "    </tr>\n",
       "    <tr>\n",
       "      <th>2016</th>\n",
       "      <td>71.436497</td>\n",
       "    </tr>\n",
       "    <tr>\n",
       "      <th>2015</th>\n",
       "      <td>71.249571</td>\n",
       "    </tr>\n",
       "  </tbody>\n",
       "</table>\n",
       "</div>"
      ],
      "text/plain": [
       "                 life_expectancy_at_birth\n",
       "country    date                          \n",
       "Arab World 2019                       NaN\n",
       "           2018                       NaN\n",
       "           2017                 71.622526\n",
       "           2016                 71.436497\n",
       "           2015                 71.249571"
      ]
     },
     "execution_count": 1,
     "metadata": {},
     "output_type": "execute_result"
    }
   ],
   "source": [
    "# Use the World Bank API to retrieve the Life expectancy at birth (in years) (code: SP.DYN.LE00.IN).\n",
    "import sys\n",
    "!{sys.executable} -m pip install wbdata\n",
    "import wbdata\n",
    "import numpy as np\n",
    "import pandas as pd\n",
    "from pandas import DataFrame, Series\n",
    "import matplotlib.pyplot as plt\n",
    "!{sys.executable} -m pip install seaborn\n",
    "import seaborn as sns\n",
    "!{sys.executable} -m pip install plotly\n",
    "import plotly\n",
    "plotly.offline.init_notebook_mode(connected=True)\n",
    "import plotly.graph_objs as go\n",
    "from plotly.offline import init_notebook_mode, plot,iplot\n",
    "\n",
    "indicators = {'SP.DYN.LE00.IN':'life_expectancy_at_birth'}\n",
    "df = wbdata.get_dataframe(indicators, convert_date=False)\n",
    "df.head()"
   ]
  },
  {
   "cell_type": "markdown",
   "metadata": {},
   "source": [
    "### 2)  Conduct some basic data wrangling tasks"
   ]
  },
  {
   "cell_type": "code",
   "execution_count": 2,
   "metadata": {},
   "outputs": [
    {
     "data": {
      "text/html": [
       "<div>\n",
       "<style scoped>\n",
       "    .dataframe tbody tr th:only-of-type {\n",
       "        vertical-align: middle;\n",
       "    }\n",
       "\n",
       "    .dataframe tbody tr th {\n",
       "        vertical-align: top;\n",
       "    }\n",
       "\n",
       "    .dataframe thead th {\n",
       "        text-align: right;\n",
       "    }\n",
       "</style>\n",
       "<table border=\"1\" class=\"dataframe\">\n",
       "  <thead>\n",
       "    <tr style=\"text-align: right;\">\n",
       "      <th></th>\n",
       "      <th>country</th>\n",
       "      <th>date</th>\n",
       "      <th>life_expectancy_at_birth</th>\n",
       "    </tr>\n",
       "  </thead>\n",
       "  <tbody>\n",
       "    <tr>\n",
       "      <th>0</th>\n",
       "      <td>Arab World</td>\n",
       "      <td>2019</td>\n",
       "      <td>NaN</td>\n",
       "    </tr>\n",
       "    <tr>\n",
       "      <th>1</th>\n",
       "      <td>Arab World</td>\n",
       "      <td>2018</td>\n",
       "      <td>NaN</td>\n",
       "    </tr>\n",
       "    <tr>\n",
       "      <th>2</th>\n",
       "      <td>Arab World</td>\n",
       "      <td>2017</td>\n",
       "      <td>71.622526</td>\n",
       "    </tr>\n",
       "    <tr>\n",
       "      <th>3</th>\n",
       "      <td>Arab World</td>\n",
       "      <td>2016</td>\n",
       "      <td>71.436497</td>\n",
       "    </tr>\n",
       "    <tr>\n",
       "      <th>4</th>\n",
       "      <td>Arab World</td>\n",
       "      <td>2015</td>\n",
       "      <td>71.249571</td>\n",
       "    </tr>\n",
       "  </tbody>\n",
       "</table>\n",
       "</div>"
      ],
      "text/plain": [
       "      country  date  life_expectancy_at_birth\n",
       "0  Arab World  2019                       NaN\n",
       "1  Arab World  2018                       NaN\n",
       "2  Arab World  2017                 71.622526\n",
       "3  Arab World  2016                 71.436497\n",
       "4  Arab World  2015                 71.249571"
      ]
     },
     "execution_count": 2,
     "metadata": {},
     "output_type": "execute_result"
    }
   ],
   "source": [
    "# reset index\n",
    "df=df.reset_index()\n",
    "df.head()"
   ]
  },
  {
   "cell_type": "code",
   "execution_count": 3,
   "metadata": {},
   "outputs": [
    {
     "data": {
      "text/plain": [
       "country                        0\n",
       "date                           0\n",
       "life_expectancy_at_birth    1843\n",
       "dtype: int64"
      ]
     },
     "execution_count": 3,
     "metadata": {},
     "output_type": "execute_result"
    }
   ],
   "source": [
    "# check nan value\n",
    "df.isnull().sum()"
   ]
  },
  {
   "cell_type": "code",
   "execution_count": 4,
   "metadata": {},
   "outputs": [
    {
     "data": {
      "text/html": [
       "<div>\n",
       "<style scoped>\n",
       "    .dataframe tbody tr th:only-of-type {\n",
       "        vertical-align: middle;\n",
       "    }\n",
       "\n",
       "    .dataframe tbody tr th {\n",
       "        vertical-align: top;\n",
       "    }\n",
       "\n",
       "    .dataframe thead th {\n",
       "        text-align: right;\n",
       "    }\n",
       "</style>\n",
       "<table border=\"1\" class=\"dataframe\">\n",
       "  <thead>\n",
       "    <tr style=\"text-align: right;\">\n",
       "      <th></th>\n",
       "      <th>country</th>\n",
       "      <th>date</th>\n",
       "      <th>life_expectancy_at_birth</th>\n",
       "    </tr>\n",
       "  </thead>\n",
       "  <tbody>\n",
       "    <tr>\n",
       "      <th>0</th>\n",
       "      <td>Arab World</td>\n",
       "      <td>2017</td>\n",
       "      <td>71.622526</td>\n",
       "    </tr>\n",
       "    <tr>\n",
       "      <th>1</th>\n",
       "      <td>Arab World</td>\n",
       "      <td>2016</td>\n",
       "      <td>71.436497</td>\n",
       "    </tr>\n",
       "    <tr>\n",
       "      <th>2</th>\n",
       "      <td>Arab World</td>\n",
       "      <td>2015</td>\n",
       "      <td>71.249571</td>\n",
       "    </tr>\n",
       "    <tr>\n",
       "      <th>3</th>\n",
       "      <td>Arab World</td>\n",
       "      <td>2014</td>\n",
       "      <td>71.064292</td>\n",
       "    </tr>\n",
       "    <tr>\n",
       "      <th>4</th>\n",
       "      <td>Arab World</td>\n",
       "      <td>2013</td>\n",
       "      <td>70.882254</td>\n",
       "    </tr>\n",
       "  </tbody>\n",
       "</table>\n",
       "</div>"
      ],
      "text/plain": [
       "      country  date  life_expectancy_at_birth\n",
       "0  Arab World  2017                 71.622526\n",
       "1  Arab World  2016                 71.436497\n",
       "2  Arab World  2015                 71.249571\n",
       "3  Arab World  2014                 71.064292\n",
       "4  Arab World  2013                 70.882254"
      ]
     },
     "execution_count": 4,
     "metadata": {},
     "output_type": "execute_result"
    }
   ],
   "source": [
    "# delete nan value\n",
    "df = df.dropna()\n",
    "df= df.reset_index()\n",
    "del df['index']\n",
    "df.head()"
   ]
  },
  {
   "cell_type": "code",
   "execution_count": 5,
   "metadata": {},
   "outputs": [],
   "source": [
    "# explore 'country' column\n",
    "# df['country'].unique()"
   ]
  },
  {
   "cell_type": "code",
   "execution_count": 6,
   "metadata": {},
   "outputs": [
    {
     "data": {
      "text/plain": [
       "count    13997.000000\n",
       "mean      1988.783168\n",
       "std         16.726241\n",
       "min       1960.000000\n",
       "25%       1974.000000\n",
       "50%       1989.000000\n",
       "75%       2003.000000\n",
       "max       2017.000000\n",
       "Name: date, dtype: float64"
      ]
     },
     "execution_count": 6,
     "metadata": {},
     "output_type": "execute_result"
    }
   ],
   "source": [
    "# explore 'date' column\n",
    "df['date'].unique()\n",
    "\n",
    "# convert date from string to int for further use\n",
    "df['date'] = df['date'].astype(int)\n",
    "df['date'].describe()"
   ]
  },
  {
   "cell_type": "code",
   "execution_count": 7,
   "metadata": {},
   "outputs": [
    {
     "data": {
      "text/plain": [
       "(18.0, 22.0]       3\n",
       "(22.0, 26.0]       2\n",
       "(26.0, 30.0]      14\n",
       "(30.0, 34.0]      43\n",
       "(34.0, 38.0]     155\n",
       "(38.0, 42.0]     334\n",
       "(42.0, 46.0]     639\n",
       "(46.0, 50.0]     903\n",
       "(50.0, 54.0]    1004\n",
       "(54.0, 58.0]    1045\n",
       "(58.0, 62.0]    1203\n",
       "(62.0, 66.0]    1448\n",
       "(66.0, 70.0]    2185\n",
       "(70.0, 74.0]    2535\n",
       "(74.0, 78.0]    1600\n",
       "(78.0, 82.0]     760\n",
       "(82.0, 86.0]     124\n",
       "Name: LE Bin, dtype: int64"
      ]
     },
     "execution_count": 7,
     "metadata": {},
     "output_type": "execute_result"
    }
   ],
   "source": [
    "# bin 'life_expectancy_at_birth' column for further use\n",
    "bins = np.linspace(start=18, stop=86, num=18)\n",
    "df['LE Bin'] = pd.cut(df['life_expectancy_at_birth'], bins)\n",
    "df['LE Bin'].value_counts().sort_index()"
   ]
  },
  {
   "cell_type": "code",
   "execution_count": 8,
   "metadata": {},
   "outputs": [],
   "source": [
    "# generate new column LE Bin Avg for further use\n",
    "s = [22,26,30,34,38,42,46,50,54,58,62,66,70,74,78,82,86]\n",
    "i = 0\n",
    "sn = Series()\n",
    "while i < len(df):\n",
    "    for si in s:\n",
    "        if si in df.iloc[i]['LE Bin']:\n",
    "            sn = sn.append(Series(si-2))\n",
    "    i+= 1\n",
    "df['LE Bin Avg'] = np.array(sn)"
   ]
  },
  {
   "cell_type": "code",
   "execution_count": 9,
   "metadata": {},
   "outputs": [
    {
     "data": {
      "text/html": [
       "<div>\n",
       "<style scoped>\n",
       "    .dataframe tbody tr th:only-of-type {\n",
       "        vertical-align: middle;\n",
       "    }\n",
       "\n",
       "    .dataframe tbody tr th {\n",
       "        vertical-align: top;\n",
       "    }\n",
       "\n",
       "    .dataframe thead th {\n",
       "        text-align: right;\n",
       "    }\n",
       "</style>\n",
       "<table border=\"1\" class=\"dataframe\">\n",
       "  <thead>\n",
       "    <tr style=\"text-align: right;\">\n",
       "      <th></th>\n",
       "      <th>country</th>\n",
       "      <th>date</th>\n",
       "      <th>life_expectancy_at_birth</th>\n",
       "      <th>LE Bin</th>\n",
       "      <th>LE Bin Avg</th>\n",
       "    </tr>\n",
       "  </thead>\n",
       "  <tbody>\n",
       "    <tr>\n",
       "      <th>0</th>\n",
       "      <td>Arab World</td>\n",
       "      <td>2017</td>\n",
       "      <td>71.622526</td>\n",
       "      <td>(70.0, 74.0]</td>\n",
       "      <td>72</td>\n",
       "    </tr>\n",
       "    <tr>\n",
       "      <th>1</th>\n",
       "      <td>Arab World</td>\n",
       "      <td>2016</td>\n",
       "      <td>71.436497</td>\n",
       "      <td>(70.0, 74.0]</td>\n",
       "      <td>72</td>\n",
       "    </tr>\n",
       "    <tr>\n",
       "      <th>2</th>\n",
       "      <td>Arab World</td>\n",
       "      <td>2015</td>\n",
       "      <td>71.249571</td>\n",
       "      <td>(70.0, 74.0]</td>\n",
       "      <td>72</td>\n",
       "    </tr>\n",
       "    <tr>\n",
       "      <th>3</th>\n",
       "      <td>Arab World</td>\n",
       "      <td>2014</td>\n",
       "      <td>71.064292</td>\n",
       "      <td>(70.0, 74.0]</td>\n",
       "      <td>72</td>\n",
       "    </tr>\n",
       "    <tr>\n",
       "      <th>4</th>\n",
       "      <td>Arab World</td>\n",
       "      <td>2013</td>\n",
       "      <td>70.882254</td>\n",
       "      <td>(70.0, 74.0]</td>\n",
       "      <td>72</td>\n",
       "    </tr>\n",
       "  </tbody>\n",
       "</table>\n",
       "</div>"
      ],
      "text/plain": [
       "      country  date  life_expectancy_at_birth        LE Bin  LE Bin Avg\n",
       "0  Arab World  2017                 71.622526  (70.0, 74.0]          72\n",
       "1  Arab World  2016                 71.436497  (70.0, 74.0]          72\n",
       "2  Arab World  2015                 71.249571  (70.0, 74.0]          72\n",
       "3  Arab World  2014                 71.064292  (70.0, 74.0]          72\n",
       "4  Arab World  2013                 70.882254  (70.0, 74.0]          72"
      ]
     },
     "execution_count": 9,
     "metadata": {},
     "output_type": "execute_result"
    }
   ],
   "source": [
    "# initial explore and clear done; generate first dataframe, aka df.\n",
    "df.head()"
   ]
  },
  {
   "cell_type": "code",
   "execution_count": 10,
   "metadata": {},
   "outputs": [
    {
     "data": {
      "text/html": [
       "<div>\n",
       "<style scoped>\n",
       "    .dataframe tbody tr th:only-of-type {\n",
       "        vertical-align: middle;\n",
       "    }\n",
       "\n",
       "    .dataframe tbody tr th {\n",
       "        vertical-align: top;\n",
       "    }\n",
       "\n",
       "    .dataframe thead th {\n",
       "        text-align: right;\n",
       "    }\n",
       "</style>\n",
       "<table border=\"1\" class=\"dataframe\">\n",
       "  <thead>\n",
       "    <tr style=\"text-align: right;\">\n",
       "      <th></th>\n",
       "      <th></th>\n",
       "      <th>life_expectancy_at_birth</th>\n",
       "      <th>LE Bin</th>\n",
       "      <th>LE Bin Avg</th>\n",
       "    </tr>\n",
       "    <tr>\n",
       "      <th>country</th>\n",
       "      <th>date</th>\n",
       "      <th></th>\n",
       "      <th></th>\n",
       "      <th></th>\n",
       "    </tr>\n",
       "  </thead>\n",
       "  <tbody>\n",
       "    <tr>\n",
       "      <th rowspan=\"5\" valign=\"top\">Afghanistan</th>\n",
       "      <th>1960</th>\n",
       "      <td>32.446</td>\n",
       "      <td>(30.0, 34.0]</td>\n",
       "      <td>32</td>\n",
       "    </tr>\n",
       "    <tr>\n",
       "      <th>1961</th>\n",
       "      <td>32.962</td>\n",
       "      <td>(30.0, 34.0]</td>\n",
       "      <td>32</td>\n",
       "    </tr>\n",
       "    <tr>\n",
       "      <th>1962</th>\n",
       "      <td>33.471</td>\n",
       "      <td>(30.0, 34.0]</td>\n",
       "      <td>32</td>\n",
       "    </tr>\n",
       "    <tr>\n",
       "      <th>1963</th>\n",
       "      <td>33.971</td>\n",
       "      <td>(30.0, 34.0]</td>\n",
       "      <td>32</td>\n",
       "    </tr>\n",
       "    <tr>\n",
       "      <th>1964</th>\n",
       "      <td>34.463</td>\n",
       "      <td>(34.0, 38.0]</td>\n",
       "      <td>36</td>\n",
       "    </tr>\n",
       "  </tbody>\n",
       "</table>\n",
       "</div>"
      ],
      "text/plain": [
       "                  life_expectancy_at_birth        LE Bin  LE Bin Avg\n",
       "country     date                                                    \n",
       "Afghanistan 1960                    32.446  (30.0, 34.0]          32\n",
       "            1961                    32.962  (30.0, 34.0]          32\n",
       "            1962                    33.471  (30.0, 34.0]          32\n",
       "            1963                    33.971  (30.0, 34.0]          32\n",
       "            1964                    34.463  (34.0, 38.0]          36"
      ]
     },
     "execution_count": 10,
     "metadata": {},
     "output_type": "execute_result"
    }
   ],
   "source": [
    "# generate second dataframe, aka df2, with hierarchical indexs.\n",
    "df2 = df.set_index(keys=['country','date']).sort_index(level=[0,1])\n",
    "df2.head(5)"
   ]
  },
  {
   "cell_type": "code",
   "execution_count": 11,
   "metadata": {},
   "outputs": [
    {
     "data": {
      "text/html": [
       "<div>\n",
       "<style scoped>\n",
       "    .dataframe tbody tr th:only-of-type {\n",
       "        vertical-align: middle;\n",
       "    }\n",
       "\n",
       "    .dataframe tbody tr th {\n",
       "        vertical-align: top;\n",
       "    }\n",
       "\n",
       "    .dataframe thead th {\n",
       "        text-align: right;\n",
       "    }\n",
       "</style>\n",
       "<table border=\"1\" class=\"dataframe\">\n",
       "  <thead>\n",
       "    <tr style=\"text-align: right;\">\n",
       "      <th></th>\n",
       "      <th>country</th>\n",
       "      <th>date</th>\n",
       "      <th>life_expectancy_at_birth</th>\n",
       "      <th>Year Bin</th>\n",
       "      <th>LE Bin</th>\n",
       "      <th>LE Bin Avg</th>\n",
       "    </tr>\n",
       "  </thead>\n",
       "  <tbody>\n",
       "    <tr>\n",
       "      <th>0</th>\n",
       "      <td>Angola</td>\n",
       "      <td>2017</td>\n",
       "      <td>60.379</td>\n",
       "      <td>NaN</td>\n",
       "      <td>(58.0, 62.0]</td>\n",
       "      <td>60.0</td>\n",
       "    </tr>\n",
       "    <tr>\n",
       "      <th>1</th>\n",
       "      <td>Angola</td>\n",
       "      <td>2016</td>\n",
       "      <td>59.925</td>\n",
       "      <td>NaN</td>\n",
       "      <td>(58.0, 62.0]</td>\n",
       "      <td>60.0</td>\n",
       "    </tr>\n",
       "    <tr>\n",
       "      <th>2</th>\n",
       "      <td>Angola</td>\n",
       "      <td>2015</td>\n",
       "      <td>59.398</td>\n",
       "      <td>NaN</td>\n",
       "      <td>(58.0, 62.0]</td>\n",
       "      <td>60.0</td>\n",
       "    </tr>\n",
       "    <tr>\n",
       "      <th>3</th>\n",
       "      <td>Angola</td>\n",
       "      <td>2014</td>\n",
       "      <td>58.776</td>\n",
       "      <td>NaN</td>\n",
       "      <td>(58.0, 62.0]</td>\n",
       "      <td>60.0</td>\n",
       "    </tr>\n",
       "    <tr>\n",
       "      <th>4</th>\n",
       "      <td>Angola</td>\n",
       "      <td>2013</td>\n",
       "      <td>58.054</td>\n",
       "      <td>NaN</td>\n",
       "      <td>(58.0, 62.0]</td>\n",
       "      <td>60.0</td>\n",
       "    </tr>\n",
       "  </tbody>\n",
       "</table>\n",
       "</div>"
      ],
      "text/plain": [
       "  country  date  life_expectancy_at_birth  Year Bin        LE Bin  LE Bin Avg\n",
       "0  Angola  2017                    60.379       NaN  (58.0, 62.0]        60.0\n",
       "1  Angola  2016                    59.925       NaN  (58.0, 62.0]        60.0\n",
       "2  Angola  2015                    59.398       NaN  (58.0, 62.0]        60.0\n",
       "3  Angola  2014                    58.776       NaN  (58.0, 62.0]        60.0\n",
       "4  Angola  2013                    58.054       NaN  (58.0, 62.0]        60.0"
      ]
     },
     "execution_count": 11,
     "metadata": {},
     "output_type": "execute_result"
    }
   ],
   "source": [
    "# based on average value of life_expectancy_at_birth, selecting top 10, and tail 10 countries' data\n",
    "# to generate third dataframe, aka df3.\n",
    "df2['life_expectancy_at_birth'].mean(level=0).sort_values(ascending=True).head(10)\n",
    "df2['life_expectancy_at_birth'].mean(level=0).sort_values(ascending=False).head(10)\n",
    "s = ['Sierra Leone', 'Mali', 'South Sudan', 'Niger', 'Nigeria', \n",
    "     'Central African Republic', 'Chad','Malawi', 'Angola', 'Mozambique',\n",
    "     'San Marino', 'Cayman Islands', 'Liechtenstein', 'Faroe Islands', 'Bermuda',\n",
    "     'Iceland', 'Japan', 'Sweden', 'Switzerland', 'Isle of Man']\n",
    "df3= DataFrame(columns=['country', 'date', 'life_expectancy_at_birth', 'Year Bin', 'LE Bin'])\n",
    "i = 0\n",
    "while i < len(df):\n",
    "    if df.iloc[i]['country'] in s:\n",
    "        df3 = df3.append(df.iloc[i],ignore_index=True)\n",
    "    i+= 1\n",
    "df3['country'].unique()\n",
    "df3.head()"
   ]
  },
  {
   "cell_type": "code",
   "execution_count": 12,
   "metadata": {
    "scrolled": true
   },
   "outputs": [
    {
     "data": {
      "text/html": [
       "<div>\n",
       "<style scoped>\n",
       "    .dataframe tbody tr th:only-of-type {\n",
       "        vertical-align: middle;\n",
       "    }\n",
       "\n",
       "    .dataframe tbody tr th {\n",
       "        vertical-align: top;\n",
       "    }\n",
       "\n",
       "    .dataframe thead th {\n",
       "        text-align: right;\n",
       "    }\n",
       "</style>\n",
       "<table border=\"1\" class=\"dataframe\">\n",
       "  <thead>\n",
       "    <tr style=\"text-align: right;\">\n",
       "      <th></th>\n",
       "      <th>count</th>\n",
       "      <th>mean</th>\n",
       "      <th>std</th>\n",
       "      <th>min</th>\n",
       "      <th>25%</th>\n",
       "      <th>50%</th>\n",
       "      <th>75%</th>\n",
       "      <th>max</th>\n",
       "    </tr>\n",
       "    <tr>\n",
       "      <th>country</th>\n",
       "      <th></th>\n",
       "      <th></th>\n",
       "      <th></th>\n",
       "      <th></th>\n",
       "      <th></th>\n",
       "      <th></th>\n",
       "      <th></th>\n",
       "      <th></th>\n",
       "    </tr>\n",
       "  </thead>\n",
       "  <tbody>\n",
       "    <tr>\n",
       "      <th>Sierra Leone</th>\n",
       "      <td>58.0</td>\n",
       "      <td>40.499552</td>\n",
       "      <td>5.810696</td>\n",
       "      <td>31.566000</td>\n",
       "      <td>37.167000</td>\n",
       "      <td>39.353500</td>\n",
       "      <td>42.158250</td>\n",
       "      <td>53.895000</td>\n",
       "    </tr>\n",
       "    <tr>\n",
       "      <th>Mali</th>\n",
       "      <td>58.0</td>\n",
       "      <td>43.354224</td>\n",
       "      <td>9.253832</td>\n",
       "      <td>28.199000</td>\n",
       "      <td>35.384000</td>\n",
       "      <td>45.080500</td>\n",
       "      <td>50.164750</td>\n",
       "      <td>58.452000</td>\n",
       "    </tr>\n",
       "    <tr>\n",
       "      <th>South Sudan</th>\n",
       "      <td>58.0</td>\n",
       "      <td>43.877466</td>\n",
       "      <td>7.894837</td>\n",
       "      <td>31.697000</td>\n",
       "      <td>37.475250</td>\n",
       "      <td>42.487000</td>\n",
       "      <td>50.425000</td>\n",
       "      <td>57.365000</td>\n",
       "    </tr>\n",
       "    <tr>\n",
       "      <th>Niger</th>\n",
       "      <td>58.0</td>\n",
       "      <td>44.918897</td>\n",
       "      <td>8.626332</td>\n",
       "      <td>35.053000</td>\n",
       "      <td>36.701000</td>\n",
       "      <td>42.772000</td>\n",
       "      <td>51.776500</td>\n",
       "      <td>61.599000</td>\n",
       "    </tr>\n",
       "    <tr>\n",
       "      <th>Nigeria</th>\n",
       "      <td>58.0</td>\n",
       "      <td>45.467293</td>\n",
       "      <td>4.238970</td>\n",
       "      <td>36.976000</td>\n",
       "      <td>42.843500</td>\n",
       "      <td>45.890000</td>\n",
       "      <td>47.140250</td>\n",
       "      <td>53.950000</td>\n",
       "    </tr>\n",
       "    <tr>\n",
       "      <th>Central African Republic</th>\n",
       "      <td>58.0</td>\n",
       "      <td>45.791552</td>\n",
       "      <td>4.051399</td>\n",
       "      <td>36.249000</td>\n",
       "      <td>44.092750</td>\n",
       "      <td>46.402500</td>\n",
       "      <td>49.140750</td>\n",
       "      <td>52.240000</td>\n",
       "    </tr>\n",
       "    <tr>\n",
       "      <th>Chad</th>\n",
       "      <td>58.0</td>\n",
       "      <td>45.925845</td>\n",
       "      <td>4.176099</td>\n",
       "      <td>38.020000</td>\n",
       "      <td>43.143250</td>\n",
       "      <td>46.841000</td>\n",
       "      <td>48.017750</td>\n",
       "      <td>53.712000</td>\n",
       "    </tr>\n",
       "    <tr>\n",
       "      <th>Malawi</th>\n",
       "      <td>58.0</td>\n",
       "      <td>46.065828</td>\n",
       "      <td>6.788847</td>\n",
       "      <td>36.672000</td>\n",
       "      <td>41.859500</td>\n",
       "      <td>45.455500</td>\n",
       "      <td>46.117750</td>\n",
       "      <td>63.279000</td>\n",
       "    </tr>\n",
       "    <tr>\n",
       "      <th>Angola</th>\n",
       "      <td>58.0</td>\n",
       "      <td>46.268172</td>\n",
       "      <td>6.043685</td>\n",
       "      <td>37.524000</td>\n",
       "      <td>42.460750</td>\n",
       "      <td>45.221500</td>\n",
       "      <td>48.255500</td>\n",
       "      <td>60.379000</td>\n",
       "    </tr>\n",
       "    <tr>\n",
       "      <th>Mozambique</th>\n",
       "      <td>58.0</td>\n",
       "      <td>46.334569</td>\n",
       "      <td>5.063477</td>\n",
       "      <td>39.439000</td>\n",
       "      <td>42.528000</td>\n",
       "      <td>44.714000</td>\n",
       "      <td>49.819250</td>\n",
       "      <td>59.309000</td>\n",
       "    </tr>\n",
       "    <tr>\n",
       "      <th>Isle of Man</th>\n",
       "      <td>2.0</td>\n",
       "      <td>77.247561</td>\n",
       "      <td>1.015819</td>\n",
       "      <td>76.529268</td>\n",
       "      <td>76.888415</td>\n",
       "      <td>77.247561</td>\n",
       "      <td>77.606707</td>\n",
       "      <td>77.965854</td>\n",
       "    </tr>\n",
       "    <tr>\n",
       "      <th>Switzerland</th>\n",
       "      <td>58.0</td>\n",
       "      <td>77.359912</td>\n",
       "      <td>3.777504</td>\n",
       "      <td>71.187561</td>\n",
       "      <td>74.381707</td>\n",
       "      <td>77.234512</td>\n",
       "      <td>80.498780</td>\n",
       "      <td>83.602439</td>\n",
       "    </tr>\n",
       "    <tr>\n",
       "      <th>Sweden</th>\n",
       "      <td>58.0</td>\n",
       "      <td>77.592544</td>\n",
       "      <td>2.914043</td>\n",
       "      <td>73.005610</td>\n",
       "      <td>74.972073</td>\n",
       "      <td>77.314512</td>\n",
       "      <td>80.032927</td>\n",
       "      <td>82.307317</td>\n",
       "    </tr>\n",
       "    <tr>\n",
       "      <th>Japan</th>\n",
       "      <td>58.0</td>\n",
       "      <td>77.680715</td>\n",
       "      <td>4.651452</td>\n",
       "      <td>67.666098</td>\n",
       "      <td>74.559756</td>\n",
       "      <td>78.650854</td>\n",
       "      <td>81.710854</td>\n",
       "      <td>84.099756</td>\n",
       "    </tr>\n",
       "    <tr>\n",
       "      <th>Iceland</th>\n",
       "      <td>58.0</td>\n",
       "      <td>77.914647</td>\n",
       "      <td>3.094653</td>\n",
       "      <td>73.042927</td>\n",
       "      <td>74.778476</td>\n",
       "      <td>77.987561</td>\n",
       "      <td>80.895122</td>\n",
       "      <td>82.917073</td>\n",
       "    </tr>\n",
       "    <tr>\n",
       "      <th>Bermuda</th>\n",
       "      <td>22.0</td>\n",
       "      <td>78.113743</td>\n",
       "      <td>3.566263</td>\n",
       "      <td>68.897805</td>\n",
       "      <td>77.935976</td>\n",
       "      <td>78.910976</td>\n",
       "      <td>80.741098</td>\n",
       "      <td>81.677805</td>\n",
       "    </tr>\n",
       "    <tr>\n",
       "      <th>Faroe Islands</th>\n",
       "      <td>34.0</td>\n",
       "      <td>78.550789</td>\n",
       "      <td>2.241174</td>\n",
       "      <td>74.497561</td>\n",
       "      <td>76.664634</td>\n",
       "      <td>78.535366</td>\n",
       "      <td>80.325610</td>\n",
       "      <td>82.400000</td>\n",
       "    </tr>\n",
       "    <tr>\n",
       "      <th>Liechtenstein</th>\n",
       "      <td>24.0</td>\n",
       "      <td>80.318394</td>\n",
       "      <td>2.122992</td>\n",
       "      <td>76.046341</td>\n",
       "      <td>78.937805</td>\n",
       "      <td>81.121951</td>\n",
       "      <td>82.119512</td>\n",
       "      <td>82.682927</td>\n",
       "    </tr>\n",
       "    <tr>\n",
       "      <th>Cayman Islands</th>\n",
       "      <td>1.0</td>\n",
       "      <td>82.190244</td>\n",
       "      <td>NaN</td>\n",
       "      <td>82.190244</td>\n",
       "      <td>82.190244</td>\n",
       "      <td>82.190244</td>\n",
       "      <td>82.190244</td>\n",
       "      <td>82.190244</td>\n",
       "    </tr>\n",
       "    <tr>\n",
       "      <th>San Marino</th>\n",
       "      <td>1.0</td>\n",
       "      <td>85.417073</td>\n",
       "      <td>NaN</td>\n",
       "      <td>85.417073</td>\n",
       "      <td>85.417073</td>\n",
       "      <td>85.417073</td>\n",
       "      <td>85.417073</td>\n",
       "      <td>85.417073</td>\n",
       "    </tr>\n",
       "  </tbody>\n",
       "</table>\n",
       "</div>"
      ],
      "text/plain": [
       "                          count       mean       std        min        25%  \\\n",
       "country                                                                      \n",
       "Sierra Leone               58.0  40.499552  5.810696  31.566000  37.167000   \n",
       "Mali                       58.0  43.354224  9.253832  28.199000  35.384000   \n",
       "South Sudan                58.0  43.877466  7.894837  31.697000  37.475250   \n",
       "Niger                      58.0  44.918897  8.626332  35.053000  36.701000   \n",
       "Nigeria                    58.0  45.467293  4.238970  36.976000  42.843500   \n",
       "Central African Republic   58.0  45.791552  4.051399  36.249000  44.092750   \n",
       "Chad                       58.0  45.925845  4.176099  38.020000  43.143250   \n",
       "Malawi                     58.0  46.065828  6.788847  36.672000  41.859500   \n",
       "Angola                     58.0  46.268172  6.043685  37.524000  42.460750   \n",
       "Mozambique                 58.0  46.334569  5.063477  39.439000  42.528000   \n",
       "Isle of Man                 2.0  77.247561  1.015819  76.529268  76.888415   \n",
       "Switzerland                58.0  77.359912  3.777504  71.187561  74.381707   \n",
       "Sweden                     58.0  77.592544  2.914043  73.005610  74.972073   \n",
       "Japan                      58.0  77.680715  4.651452  67.666098  74.559756   \n",
       "Iceland                    58.0  77.914647  3.094653  73.042927  74.778476   \n",
       "Bermuda                    22.0  78.113743  3.566263  68.897805  77.935976   \n",
       "Faroe Islands              34.0  78.550789  2.241174  74.497561  76.664634   \n",
       "Liechtenstein              24.0  80.318394  2.122992  76.046341  78.937805   \n",
       "Cayman Islands              1.0  82.190244       NaN  82.190244  82.190244   \n",
       "San Marino                  1.0  85.417073       NaN  85.417073  85.417073   \n",
       "\n",
       "                                50%        75%        max  \n",
       "country                                                    \n",
       "Sierra Leone              39.353500  42.158250  53.895000  \n",
       "Mali                      45.080500  50.164750  58.452000  \n",
       "South Sudan               42.487000  50.425000  57.365000  \n",
       "Niger                     42.772000  51.776500  61.599000  \n",
       "Nigeria                   45.890000  47.140250  53.950000  \n",
       "Central African Republic  46.402500  49.140750  52.240000  \n",
       "Chad                      46.841000  48.017750  53.712000  \n",
       "Malawi                    45.455500  46.117750  63.279000  \n",
       "Angola                    45.221500  48.255500  60.379000  \n",
       "Mozambique                44.714000  49.819250  59.309000  \n",
       "Isle of Man               77.247561  77.606707  77.965854  \n",
       "Switzerland               77.234512  80.498780  83.602439  \n",
       "Sweden                    77.314512  80.032927  82.307317  \n",
       "Japan                     78.650854  81.710854  84.099756  \n",
       "Iceland                   77.987561  80.895122  82.917073  \n",
       "Bermuda                   78.910976  80.741098  81.677805  \n",
       "Faroe Islands             78.535366  80.325610  82.400000  \n",
       "Liechtenstein             81.121951  82.119512  82.682927  \n",
       "Cayman Islands            82.190244  82.190244  82.190244  \n",
       "San Marino                85.417073  85.417073  85.417073  "
      ]
     },
     "execution_count": 12,
     "metadata": {},
     "output_type": "execute_result"
    }
   ],
   "source": [
    "df3.groupby(by='country')['life_expectancy_at_birth'].describe().sort_values('mean')"
   ]
  },
  {
   "cell_type": "markdown",
   "metadata": {},
   "source": [
    "### 3)  Convey information through data visualization & communicate findings "
   ]
  },
  {
   "cell_type": "code",
   "execution_count": 13,
   "metadata": {},
   "outputs": [
    {
     "data": {
      "image/png": "[encoded data removed]",
      "text/plain": [
       "<Figure size 864x576 with 2 Axes>"
      ]
     },
     "metadata": {
      "needs_background": "light"
     },
     "output_type": "display_data"
    }
   ],
   "source": [
    "fig, ax = plt.subplots(2, 1, sharex=True, figsize=(12,8))\n",
    "\n",
    "plt.subplot(2,1,1)\n",
    "less_42 = df['life_expectancy_at_birth'] < 42\n",
    "more_78 = df['life_expectancy_at_birth'] > 78\n",
    "plt.plot(df['date'], df['life_expectancy_at_birth'], 'b.')\n",
    "plt.plot(df['date'][less_42], df['life_expectancy_at_birth'][less_42], 'r.')\n",
    "plt.plot(df['date'][more_78], df['life_expectancy_at_birth'][more_78], 'g.')\n",
    "plt.axhline(78, c='0.5', alpha=0.5) \n",
    "plt.axhline(42, c='0.5', alpha=0.5) \n",
    "plt.axvline(2002,c='0.5', alpha=0.5)\n",
    "plt.text(2000, 84, 'Year 2002')\n",
    "plt.axvline(1986, c='0.5', alpha=0.5)\n",
    "plt.text(1984, 84, 'Year 1986')\n",
    "plt.xlabel('')\n",
    "plt.ylabel('Life Expectancy at Birth')\n",
    "plt.text(x=1973.5, y=19, s='Cambodia', horizontalalignment='center', \n",
    "        bbox={'linestyle': '-', 'facecolor': 'w', 'pad': 1})\n",
    "plt.text(x=1977, y=28, s='Timor-Lester', horizontalalignment='center', \n",
    "        bbox={'linestyle': '-', 'facecolor': 'w', 'pad': 1})\n",
    "plt.text(x=1990, y=24, s='Rwanda', horizontalalignment='center', \n",
    "        bbox={'linestyle': '-', 'facecolor': 'w', 'pad': 1})\n",
    "plt.text(x=1999, y=33, s='Sierra Leone', horizontalalignment='center', \n",
    "        bbox={'linestyle': '-', 'facecolor': 'w', 'pad': 1})\n",
    "plt.legend(('42 <= LE <= 78', 'LE <42', 'LE > 78'), loc='lower right', ncol=2, frameon=True, facecolor='white');\n",
    "\n",
    "plt.subplot(2,1,2)\n",
    "plt.plot(df2['life_expectancy_at_birth'].mean(level=1).sort_values(ascending=True))\n",
    "plt.axhline(df2['life_expectancy_at_birth'].mean(), c='0.5', alpha=0.5) \n",
    "plt.axvline(1986, c='0.5', alpha=0.5) \n",
    "plt.text(1984, 58, 'Year 1986')\n",
    "plt.xlabel('Year')\n",
    "plt.ylabel('Average Life Expectancy at Birth')\n",
    "plt.text(x=1997.6, y=62.2, s='Average of Life Expectancy at Birth Changes over Time', horizontalalignment='center', \n",
    "        bbox={'linestyle': '-', 'facecolor': 'w', 'pad': 6})\n",
    "\n",
    "plt.suptitle('Time Serials Analysis for Life Expectancy at Birth (LE)', y=1.025)\n",
    "fig.tight_layout()"
   ]
  },
  {
   "cell_type": "markdown",
   "metadata": {},
   "source": [
    "### The chart above is generate to provide time serials analysis for Life Expectancy at Birth (LE), with first one using each LE in the main chart (df), and second one using year average LE. We could view that, 1) average of Life Expectancy at Birth keep increasing over time (1960 - 2017), and the growth rate after Year 1986 is slight small than that before 1986. 2) Most LE data falls between 42 and 78. High LE data (LE > 78) began to appear after 1986, and low LE data (LE < 42) disappear after 2002. 3）Although for most countries, LE increased over time, there are several special cases in which LE decreased over time. Cambodia's LE dropped dramatically from 43 in 1968 to 19 in 1977, and then increased back to 44 until 1983. Timor-Lester's LE dropped from 39 in 1972 to 33 in 1978, and then increased back to 40 until 1983. Rwanda's LE dropped dramatically from 52 in 1984 to 26 in 1993, and then increased back to 52 until 2003. Sierra Leone's LE dropped from 41 in 1983 to 37 in 1995, and then increased back to 41 until 2002. Further research could be done to look into what happens in those time periods, and discover why those happens (war, diseases, etc.)."
   ]
  },
  {
   "cell_type": "markdown",
   "metadata": {},
   "source": [
    "### 4)  Appendix"
   ]
  },
  {
   "cell_type": "code",
   "execution_count": 14,
   "metadata": {
    "scrolled": true
   },
   "outputs": [
    {
     "data": {
      "application/vnd.plotly.v1+json": {
       "config": {
        "linkText": "Export to plot.ly",
        "plotlyServerURL": "https://plot.ly",
        "showLink": false
       },
       "data": [
        {
         "boxmean": "sd",
         "boxpoints": "all",
         "marker": {
          "color": "rgb(124, 205, 124)"
         },
         "name": "Sierra Leone",
         "type": "box",
         "y": [
          53.895,
          53.444,
          52.941,
          52.372,
          51.731,
          51.018,
          50.234,
          49.382,
          48.468,
          47.508,
          46.52,
          45.517,
          44.502,
          43.467,
          42.419,
          41.376,
          40.369,
          39.441,
          38.634,
          37.98,
          37.496,
          37.194,
          37.083,
          37.158,
          37.384,
          37.717,
          38.122,
          38.563,
          39.009,
          39.439,
          39.827,
          40.147,
          40.377,
          40.506,
          40.545,
          40.504,
          40.386,
          40.194,
          39.936,
          39.623,
          39.268,
          38.881,
          38.468,
          38.032,
          37.572,
          37.092,
          36.599,
          36.098,
          35.59,
          35.08,
          34.572,
          34.072,
          33.59,
          33.134,
          32.705,
          32.302,
          31.925,
          31.566
         ]
        },
        {
         "boxmean": "sd",
         "boxpoints": "all",
         "marker": {
          "color": "rgb(84, 139, 84)"
         },
         "name": "Mali",
         "type": "box",
         "y": [
          58.452,
          57.987,
          57.509,
          57.036,
          56.578,
          56.135,
          55.701,
          55.251,
          54.756,
          54.193,
          53.553,
          52.839,
          52.057,
          51.224,
          50.373,
          49.54,
          48.758,
          48.069,
          47.515,
          47.103,
          46.823,
          46.658,
          46.573,
          46.52,
          46.445,
          46.305,
          46.076,
          45.746,
          45.323,
          44.838,
          44.315,
          43.759,
          43.17,
          42.545,
          41.879,
          41.173,
          40.435,
          39.677,
          38.909,
          38.142,
          37.385,
          36.645,
          35.921,
          35.205,
          34.493,
          33.782,
          33.078,
          32.388,
          31.72,
          31.086,
          30.496,
          29.959,
          29.489,
          29.097,
          28.782,
          28.535,
          28.345,
          28.199
         ]
        },
        {
         "boxmean": "sd",
         "boxpoints": "all",
         "marker": {
          "color": "rgb(144, 238, 144)"
         },
         "name": "South Sudan",
         "type": "box",
         "y": [
          57.365,
          57.12,
          56.855,
          56.552,
          56.2,
          55.791,
          55.325,
          54.8,
          54.219,
          53.6,
          52.96,
          52.315,
          51.686,
          51.095,
          50.55,
          50.05,
          49.592,
          49.166,
          48.754,
          48.333,
          47.884,
          47.395,
          46.855,
          46.257,
          45.611,
          44.932,
          44.232,
          43.524,
          42.825,
          42.149,
          41.513,
          40.931,
          40.423,
          40.005,
          39.671,
          39.41,
          39.206,
          39.033,
          38.861,
          38.662,
          38.417,
          38.118,
          37.767,
          37.378,
          36.974,
          36.575,
          36.186,
          35.807,
          35.432,
          35.051,
          34.656,
          34.248,
          33.828,
          33.402,
          32.975,
          32.55,
          32.125,
          31.697
         ]
        },
        {
         "boxmean": "sd",
         "boxpoints": "all",
         "marker": {
          "color": "rgb(0, 238, 118)"
         },
         "name": "Niger",
         "type": "box",
         "y": [
          61.599,
          61.137,
          60.631,
          60.07,
          59.455,
          58.79,
          58.081,
          57.333,
          56.557,
          55.764,
          54.968,
          54.18,
          53.411,
          52.668,
          51.95,
          51.256,
          50.584,
          49.928,
          49.279,
          48.627,
          47.97,
          47.307,
          46.641,
          45.979,
          45.33,
          44.703,
          44.103,
          43.538,
          43.014,
          42.53,
          42.079,
          41.654,
          41.241,
          40.821,
          40.385,
          39.927,
          39.45,
          38.962,
          38.48,
          38.02,
          37.6,
          37.227,
          36.905,
          36.633,
          36.402,
          36.203,
          36.031,
          35.883,
          35.76,
          35.658,
          35.573,
          35.501,
          35.435,
          35.368,
          35.298,
          35.223,
          35.141,
          35.053
         ]
        },
        {
         "boxmean": "sd",
         "boxpoints": "all",
         "marker": {
          "color": "rgb(0, 205, 102)"
         },
         "name": "Nigeria",
         "type": "box",
         "y": [
          53.95,
          53.541,
          53.112,
          52.672,
          52.228,
          51.786,
          51.346,
          50.896,
          50.422,
          49.913,
          49.373,
          48.812,
          48.252,
          47.72,
          47.242,
          46.835,
          46.51,
          46.267,
          46.103,
          45.994,
          45.923,
          45.88,
          45.854,
          45.843,
          45.845,
          45.857,
          45.875,
          45.9,
          45.939,
          45.99,
          46.048,
          46.101,
          46.127,
          46.106,
          46.023,
          45.867,
          45.637,
          45.333,
          44.963,
          44.547,
          44.104,
          43.647,
          43.187,
          42.729,
          42.276,
          41.829,
          41.392,
          40.971,
          40.569,
          40.184,
          39.809,
          39.442,
          39.072,
          38.691,
          38.291,
          37.871,
          37.431,
          36.976
         ]
        },
        {
         "boxmean": "sd",
         "boxpoints": "all",
         "marker": {
          "color": "rgb(0, 139, 69)"
         },
         "name": "Central African Republic",
         "type": "box",
         "y": [
          52.24,
          51.593,
          50.881,
          50.129,
          49.371,
          48.638,
          47.95,
          47.312,
          46.719,
          46.161,
          45.636,
          45.158,
          44.744,
          44.413,
          44.182,
          44.063,
          44.061,
          44.19,
          44.461,
          44.857,
          45.353,
          45.922,
          46.53,
          47.143,
          47.731,
          48.267,
          48.728,
          49.104,
          49.397,
          49.624,
          49.797,
          49.912,
          49.966,
          49.955,
          49.872,
          49.713,
          49.476,
          49.153,
          48.737,
          48.233,
          47.648,
          46.992,
          46.275,
          45.504,
          44.695,
          43.866,
          43.036,
          42.223,
          41.444,
          40.703,
          40.005,
          39.355,
          38.754,
          38.201,
          37.683,
          37.19,
          36.715,
          36.249
         ]
        },
        {
         "boxmean": "sd",
         "boxpoints": "all",
         "marker": {
          "color": "rgb(0, 255, 0)"
         },
         "name": "Chad",
         "type": "box",
         "y": [
          53.712,
          53.438,
          53.137,
          52.789,
          52.386,
          51.928,
          51.424,
          50.89,
          50.346,
          49.82,
          49.335,
          48.907,
          48.549,
          48.27,
          48.057,
          47.9,
          47.789,
          47.713,
          47.657,
          47.61,
          47.559,
          47.498,
          47.426,
          47.345,
          47.265,
          47.187,
          47.108,
          47.019,
          46.91,
          46.772,
          46.601,
          46.397,
          46.162,
          45.903,
          45.63,
          45.351,
          45.071,
          44.793,
          44.521,
          44.251,
          43.979,
          43.698,
          43.396,
          43.059,
          42.681,
          42.264,
          41.813,
          41.344,
          40.878,
          40.435,
          40.028,
          39.665,
          39.344,
          39.059,
          38.795,
          38.536,
          38.279,
          38.02
         ]
        },
        {
         "boxmean": "sd",
         "boxpoints": "all",
         "marker": {
          "color": "rgb(0, 205, 0)"
         },
         "name": "Malawi",
         "type": "box",
         "y": [
          45.136,
          45.285,
          45.479,
          45.677,
          45.846,
          45.969,
          46.055,
          46.108,
          46.121,
          46.096,
          46.038,
          45.957,
          45.86,
          45.746,
          45.606,
          45.432,
          45.216,
          44.954,
          44.646,
          44.296,
          43.912,
          43.504,
          43.082,
          42.649,
          42.206,
          41.744,
          41.262,
          40.762,
          40.254,
          39.756,
          39.289,
          38.866,
          38.494,
          38.174,
          37.899,
          37.655,
          37.421,
          37.183,
          36.934,
          36.672,
          63.279,
          62.681,
          61.953,
          61.042,
          59.931,
          58.629,
          57.161,
          55.564,
          53.888,
          52.206,
          50.595,
          49.118,
          47.844,
          46.823,
          46.052,
          45.517,
          45.204,
          45.09
         ]
        },
        {
         "boxmean": "sd",
         "boxpoints": "all",
         "marker": {
          "color": "rgb(0, 139, 0)"
         },
         "name": "Angola",
         "type": "box",
         "y": [
          60.379,
          59.925,
          59.398,
          58.776,
          58.054,
          57.236,
          56.33,
          55.35,
          54.311,
          53.243,
          52.177,
          51.143,
          50.165,
          49.263,
          48.44,
          47.702,
          47.059,
          46.522,
          46.093,
          45.763,
          45.519,
          45.35,
          45.246,
          45.201,
          45.201,
          45.23,
          45.271,
          45.306,
          45.324,
          45.317,
          45.283,
          45.213,
          45.107,
          44.966,
          44.799,
          44.611,
          44.404,
          44.178,
          43.931,
          43.66,
          43.367,
          43.053,
          42.721,
          42.374,
          42.016,
          41.65,
          41.282,
          40.914,
          40.546,
          40.178,
          39.813,
          39.454,
          39.102,
          38.76,
          38.43,
          38.113,
          37.811,
          37.524
         ]
        },
        {
         "boxmean": "sd",
         "boxpoints": "all",
         "marker": {
          "color": "rgb(102, 205, 0)"
         },
         "name": "Mozambique",
         "type": "box",
         "y": [
          59.309,
          58.309,
          57.206,
          56.062,
          54.949,
          53.931,
          53.043,
          52.31,
          51.738,
          51.292,
          50.934,
          50.641,
          50.387,
          50.143,
          49.889,
          49.61,
          49.295,
          48.946,
          48.572,
          48.194,
          47.826,
          47.47,
          47.123,
          46.772,
          46.41,
          46.033,
          45.647,
          45.261,
          44.887,
          44.541,
          44.235,
          43.975,
          43.772,
          43.637,
          43.56,
          43.527,
          43.521,
          43.515,
          43.479,
          43.391,
          43.242,
          43.028,
          42.759,
          42.451,
          42.135,
          41.836,
          41.567,
          41.343,
          41.178,
          41.061,
          40.975,
          40.904,
          40.822,
          40.698,
          40.508,
          40.238,
          39.879,
          39.439
         ]
        }
       ],
       "layout": {
        "template": {
         "data": {
          "bar": [
           {
            "error_x": {
             "color": "#2a3f5f"
            },
            "error_y": {
             "color": "#2a3f5f"
            },
            "marker": {
             "line": {
              "color": "#E5ECF6",
              "width": 0.5
             }
            },
            "type": "bar"
           }
          ],
          "barpolar": [
           {
            "marker": {
             "line": {
              "color": "#E5ECF6",
              "width": 0.5
             }
            },
            "type": "barpolar"
           }
          ],
          "carpet": [
           {
            "aaxis": {
             "endlinecolor": "#2a3f5f",
             "gridcolor": "white",
             "linecolor": "white",
             "minorgridcolor": "white",
             "startlinecolor": "#2a3f5f"
            },
            "baxis": {
             "endlinecolor": "#2a3f5f",
             "gridcolor": "white",
             "linecolor": "white",
             "minorgridcolor": "white",
             "startlinecolor": "#2a3f5f"
            },
            "type": "carpet"
           }
          ],
          "choropleth": [
           {
            "colorbar": {
             "outlinewidth": 0,
             "ticks": ""
            },
            "type": "choropleth"
           }
          ],
          "contour": [
           {
            "colorbar": {
             "outlinewidth": 0,
             "ticks": ""
            },
            "colorscale": [
             [
              0,
              "#0d0887"
             ],
             [
              0.1111111111111111,
              "#46039f"
             ],
             [
              0.2222222222222222,
              "#7201a8"
             ],
             [
              0.3333333333333333,
              "#9c179e"
             ],
             [
              0.4444444444444444,
              "#bd3786"
             ],
             [
              0.5555555555555556,
              "#d8576b"
             ],
             [
              0.6666666666666666,
              "#ed7953"
             ],
             [
              0.7777777777777778,
              "#fb9f3a"
             ],
             [
              0.8888888888888888,
              "#fdca26"
             ],
             [
              1,
              "#f0f921"
             ]
            ],
            "type": "contour"
           }
          ],
          "contourcarpet": [
           {
            "colorbar": {
             "outlinewidth": 0,
             "ticks": ""
            },
            "type": "contourcarpet"
           }
          ],
          "heatmap": [
           {
            "colorbar": {
             "outlinewidth": 0,
             "ticks": ""
            },
            "colorscale": [
             [
              0,
              "#0d0887"
             ],
             [
              0.1111111111111111,
              "#46039f"
             ],
             [
              0.2222222222222222,
              "#7201a8"
             ],
             [
              0.3333333333333333,
              "#9c179e"
             ],
             [
              0.4444444444444444,
              "#bd3786"
             ],
             [
              0.5555555555555556,
              "#d8576b"
             ],
             [
              0.6666666666666666,
              "#ed7953"
             ],
             [
              0.7777777777777778,
              "#fb9f3a"
             ],
             [
              0.8888888888888888,
              "#fdca26"
             ],
             [
              1,
              "#f0f921"
             ]
            ],
            "type": "heatmap"
           }
          ],
          "heatmapgl": [
           {
            "colorbar": {
             "outlinewidth": 0,
             "ticks": ""
            },
            "colorscale": [
             [
              0,
              "#0d0887"
             ],
             [
              0.1111111111111111,
              "#46039f"
             ],
             [
              0.2222222222222222,
              "#7201a8"
             ],
             [
              0.3333333333333333,
              "#9c179e"
             ],
             [
              0.4444444444444444,
              "#bd3786"
             ],
             [
              0.5555555555555556,
              "#d8576b"
             ],
             [
              0.6666666666666666,
              "#ed7953"
             ],
             [
              0.7777777777777778,
              "#fb9f3a"
             ],
             [
              0.8888888888888888,
              "#fdca26"
             ],
             [
              1,
              "#f0f921"
             ]
            ],
            "type": "heatmapgl"
           }
          ],
          "histogram": [
           {
            "marker": {
             "colorbar": {
              "outlinewidth": 0,
              "ticks": ""
             }
            },
            "type": "histogram"
           }
          ],
          "histogram2d": [
           {
            "colorbar": {
             "outlinewidth": 0,
             "ticks": ""
            },
            "colorscale": [
             [
              0,
              "#0d0887"
             ],
             [
              0.1111111111111111,
              "#46039f"
             ],
             [
              0.2222222222222222,
              "#7201a8"
             ],
             [
              0.3333333333333333,
              "#9c179e"
             ],
             [
              0.4444444444444444,
              "#bd3786"
             ],
             [
              0.5555555555555556,
              "#d8576b"
             ],
             [
              0.6666666666666666,
              "#ed7953"
             ],
             [
              0.7777777777777778,
              "#fb9f3a"
             ],
             [
              0.8888888888888888,
              "#fdca26"
             ],
             [
              1,
              "#f0f921"
             ]
            ],
            "type": "histogram2d"
           }
          ],
          "histogram2dcontour": [
           {
            "colorbar": {
             "outlinewidth": 0,
             "ticks": ""
            },
            "colorscale": [
             [
              0,
              "#0d0887"
             ],
             [
              0.1111111111111111,
              "#46039f"
             ],
             [
              0.2222222222222222,
              "#7201a8"
             ],
             [
              0.3333333333333333,
              "#9c179e"
             ],
             [
              0.4444444444444444,
              "#bd3786"
             ],
             [
              0.5555555555555556,
              "#d8576b"
             ],
             [
              0.6666666666666666,
              "#ed7953"
             ],
             [
              0.7777777777777778,
              "#fb9f3a"
             ],
             [
              0.8888888888888888,
              "#fdca26"
             ],
             [
              1,
              "#f0f921"
             ]
            ],
            "type": "histogram2dcontour"
           }
          ],
          "mesh3d": [
           {
            "colorbar": {
             "outlinewidth": 0,
             "ticks": ""
            },
            "type": "mesh3d"
           }
          ],
          "parcoords": [
           {
            "line": {
             "colorbar": {
              "outlinewidth": 0,
              "ticks": ""
             }
            },
            "type": "parcoords"
           }
          ],
          "pie": [
           {
            "automargin": true,
            "type": "pie"
           }
          ],
          "scatter": [
           {
            "marker": {
             "colorbar": {
              "outlinewidth": 0,
              "ticks": ""
             }
            },
            "type": "scatter"
           }
          ],
          "scatter3d": [
           {
            "line": {
             "colorbar": {
              "outlinewidth": 0,
              "ticks": ""
             }
            },
            "marker": {
             "colorbar": {
              "outlinewidth": 0,
              "ticks": ""
             }
            },
            "type": "scatter3d"
           }
          ],
          "scattercarpet": [
           {
            "marker": {
             "colorbar": {
              "outlinewidth": 0,
              "ticks": ""
             }
            },
            "type": "scattercarpet"
           }
          ],
          "scattergeo": [
           {
            "marker": {
             "colorbar": {
              "outlinewidth": 0,
              "ticks": ""
             }
            },
            "type": "scattergeo"
           }
          ],
          "scattergl": [
           {
            "marker": {
             "colorbar": {
              "outlinewidth": 0,
              "ticks": ""
             }
            },
            "type": "scattergl"
           }
          ],
          "scattermapbox": [
           {
            "marker": {
             "colorbar": {
              "outlinewidth": 0,
              "ticks": ""
             }
            },
            "type": "scattermapbox"
           }
          ],
          "scatterpolar": [
           {
            "marker": {
             "colorbar": {
              "outlinewidth": 0,
              "ticks": ""
             }
            },
            "type": "scatterpolar"
           }
          ],
          "scatterpolargl": [
           {
            "marker": {
             "colorbar": {
              "outlinewidth": 0,
              "ticks": ""
             }
            },
            "type": "scatterpolargl"
           }
          ],
          "scatterternary": [
           {
            "marker": {
             "colorbar": {
              "outlinewidth": 0,
              "ticks": ""
             }
            },
            "type": "scatterternary"
           }
          ],
          "surface": [
           {
            "colorbar": {
             "outlinewidth": 0,
             "ticks": ""
            },
            "colorscale": [
             [
              0,
              "#0d0887"
             ],
             [
              0.1111111111111111,
              "#46039f"
             ],
             [
              0.2222222222222222,
              "#7201a8"
             ],
             [
              0.3333333333333333,
              "#9c179e"
             ],
             [
              0.4444444444444444,
              "#bd3786"
             ],
             [
              0.5555555555555556,
              "#d8576b"
             ],
             [
              0.6666666666666666,
              "#ed7953"
             ],
             [
              0.7777777777777778,
              "#fb9f3a"
             ],
             [
              0.8888888888888888,
              "#fdca26"
             ],
             [
              1,
              "#f0f921"
             ]
            ],
            "type": "surface"
           }
          ],
          "table": [
           {
            "cells": {
             "fill": {
              "color": "#EBF0F8"
             },
             "line": {
              "color": "white"
             }
            },
            "header": {
             "fill": {
              "color": "#C8D4E3"
             },
             "line": {
              "color": "white"
             }
            },
            "type": "table"
           }
          ]
         },
         "layout": {
          "annotationdefaults": {
           "arrowcolor": "#2a3f5f",
           "arrowhead": 0,
           "arrowwidth": 1
          },
          "coloraxis": {
           "colorbar": {
            "outlinewidth": 0,
            "ticks": ""
           }
          },
          "colorscale": {
           "diverging": [
            [
             0,
             "#8e0152"
            ],
            [
             0.1,
             "#c51b7d"
            ],
            [
             0.2,
             "#de77ae"
            ],
            [
             0.3,
             "#f1b6da"
            ],
            [
             0.4,
             "#fde0ef"
            ],
            [
             0.5,
             "#f7f7f7"
            ],
            [
             0.6,
             "#e6f5d0"
            ],
            [
             0.7,
             "#b8e186"
            ],
            [
             0.8,
             "#7fbc41"
            ],
            [
             0.9,
             "#4d9221"
            ],
            [
             1,
             "#276419"
            ]
           ],
           "sequential": [
            [
             0,
             "#0d0887"
            ],
            [
             0.1111111111111111,
             "#46039f"
            ],
            [
             0.2222222222222222,
             "#7201a8"
            ],
            [
             0.3333333333333333,
             "#9c179e"
            ],
            [
             0.4444444444444444,
             "#bd3786"
            ],
            [
             0.5555555555555556,
             "#d8576b"
            ],
            [
             0.6666666666666666,
             "#ed7953"
            ],
            [
             0.7777777777777778,
             "#fb9f3a"
            ],
            [
             0.8888888888888888,
             "#fdca26"
            ],
            [
             1,
             "#f0f921"
            ]
           ],
           "sequentialminus": [
            [
             0,
             "#0d0887"
            ],
            [
             0.1111111111111111,
             "#46039f"
            ],
            [
             0.2222222222222222,
             "#7201a8"
            ],
            [
             0.3333333333333333,
             "#9c179e"
            ],
            [
             0.4444444444444444,
             "#bd3786"
            ],
            [
             0.5555555555555556,
             "#d8576b"
            ],
            [
             0.6666666666666666,
             "#ed7953"
            ],
            [
             0.7777777777777778,
             "#fb9f3a"
            ],
            [
             0.8888888888888888,
             "#fdca26"
            ],
            [
             1,
             "#f0f921"
            ]
           ]
          },
          "colorway": [
           "#636efa",
           "#EF553B",
           "#00cc96",
           "#ab63fa",
           "#FFA15A",
           "#19d3f3",
           "#FF6692",
           "#B6E880",
           "#FF97FF",
           "#FECB52"
          ],
          "font": {
           "color": "#2a3f5f"
          },
          "geo": {
           "bgcolor": "white",
           "lakecolor": "white",
           "landcolor": "#E5ECF6",
           "showlakes": true,
           "showland": true,
           "subunitcolor": "white"
          },
          "hoverlabel": {
           "align": "left"
          },
          "hovermode": "closest",
          "mapbox": {
           "style": "light"
          },
          "paper_bgcolor": "white",
          "plot_bgcolor": "#E5ECF6",
          "polar": {
           "angularaxis": {
            "gridcolor": "white",
            "linecolor": "white",
            "ticks": ""
           },
           "bgcolor": "#E5ECF6",
           "radialaxis": {
            "gridcolor": "white",
            "linecolor": "white",
            "ticks": ""
           }
          },
          "scene": {
           "xaxis": {
            "backgroundcolor": "#E5ECF6",
            "gridcolor": "white",
            "gridwidth": 2,
            "linecolor": "white",
            "showbackground": true,
            "ticks": "",
            "zerolinecolor": "white"
           },
           "yaxis": {
            "backgroundcolor": "#E5ECF6",
            "gridcolor": "white",
            "gridwidth": 2,
            "linecolor": "white",
            "showbackground": true,
            "ticks": "",
            "zerolinecolor": "white"
           },
           "zaxis": {
            "backgroundcolor": "#E5ECF6",
            "gridcolor": "white",
            "gridwidth": 2,
            "linecolor": "white",
            "showbackground": true,
            "ticks": "",
            "zerolinecolor": "white"
           }
          },
          "shapedefaults": {
           "line": {
            "color": "#2a3f5f"
           }
          },
          "ternary": {
           "aaxis": {
            "gridcolor": "white",
            "linecolor": "white",
            "ticks": ""
           },
           "baxis": {
            "gridcolor": "white",
            "linecolor": "white",
            "ticks": ""
           },
           "bgcolor": "#E5ECF6",
           "caxis": {
            "gridcolor": "white",
            "linecolor": "white",
            "ticks": ""
           }
          },
          "title": {
           "x": 0.05
          },
          "xaxis": {
           "automargin": true,
           "gridcolor": "white",
           "linecolor": "white",
           "ticks": "",
           "title": {
            "standoff": 15
           },
           "zerolinecolor": "white",
           "zerolinewidth": 2
          },
          "yaxis": {
           "automargin": true,
           "gridcolor": "white",
           "linecolor": "white",
           "ticks": "",
           "title": {
            "standoff": 15
           },
           "zerolinecolor": "white",
           "zerolinewidth": 2
          }
         }
        }
       }
      },
      "text/html": [
       "<div>\n",
       "        \n",
       "        \n",
       "            <div id=\"42ab1fbe-1585-4b20-aa9f-3c571990e487\" class=\"plotly-graph-div\" style=\"height:525px; width:100%;\"></div>\n",
       "            <script type=\"text/javascript\">\n",
       "                require([\"plotly\"], function(Plotly) {\n",
       "                    window.PLOTLYENV=window.PLOTLYENV || {};\n",
       "                    \n",
       "                if (document.getElementById(\"42ab1fbe-1585-4b20-aa9f-3c571990e487\")) {\n",
       "                    Plotly.newPlot(\n",
       "                        '42ab1fbe-1585-4b20-aa9f-3c571990e487',\n",
       "                        [{\"boxmean\": \"sd\", \"boxpoints\": \"all\", \"marker\": {\"color\": \"rgb(124, 205, 124)\"}, \"name\": \"Sierra Leone\", \"type\": \"box\", \"y\": [53.895, 53.444, 52.941, 52.372, 51.731, 51.018, 50.234, 49.382, 48.468, 47.508, 46.52, 45.517, 44.502, 43.467, 42.419, 41.376, 40.369, 39.441, 38.634, 37.98, 37.496, 37.194, 37.083, 37.158, 37.384, 37.717, 38.122, 38.563, 39.009, 39.439, 39.827, 40.147, 40.377, 40.506, 40.545, 40.504, 40.386, 40.194, 39.936, 39.623, 39.268, 38.881, 38.468, 38.032, 37.572, 37.092, 36.599, 36.098, 35.59, 35.08, 34.572, 34.072, 33.59, 33.134, 32.705, 32.302, 31.925, 31.566]}, {\"boxmean\": \"sd\", \"boxpoints\": \"all\", \"marker\": {\"color\": \"rgb(84, 139, 84)\"}, \"name\": \"Mali\", \"type\": \"box\", \"y\": [58.452, 57.987, 57.509, 57.036, 56.578, 56.135, 55.701, 55.251, 54.756, 54.193, 53.553, 52.839, 52.057, 51.224, 50.373, 49.54, 48.758, 48.069, 47.515, 47.103, 46.823, 46.658, 46.573, 46.52, 46.445, 46.305, 46.076, 45.746, 45.323, 44.838, 44.315, 43.759, 43.17, 42.545, 41.879, 41.173, 40.435, 39.677, 38.909, 38.142, 37.385, 36.645, 35.921, 35.205, 34.493, 33.782, 33.078, 32.388, 31.72, 31.086, 30.496, 29.959, 29.489, 29.097, 28.782, 28.535, 28.345, 28.199]}, {\"boxmean\": \"sd\", \"boxpoints\": \"all\", \"marker\": {\"color\": \"rgb(144, 238, 144)\"}, \"name\": \"South Sudan\", \"type\": \"box\", \"y\": [57.365, 57.12, 56.855, 56.552, 56.2, 55.791, 55.325, 54.8, 54.219, 53.6, 52.96, 52.315, 51.686, 51.095, 50.55, 50.05, 49.592, 49.166, 48.754, 48.333, 47.884, 47.395, 46.855, 46.257, 45.611, 44.932, 44.232, 43.524, 42.825, 42.149, 41.513, 40.931, 40.423, 40.005, 39.671, 39.41, 39.206, 39.033, 38.861, 38.662, 38.417, 38.118, 37.767, 37.378, 36.974, 36.575, 36.186, 35.807, 35.432, 35.051, 34.656, 34.248, 33.828, 33.402, 32.975, 32.55, 32.125, 31.697]}, {\"boxmean\": \"sd\", \"boxpoints\": \"all\", \"marker\": {\"color\": \"rgb(0, 238, 118)\"}, \"name\": \"Niger\", \"type\": \"box\", \"y\": [61.599, 61.137, 60.631, 60.07, 59.455, 58.79, 58.081, 57.333, 56.557, 55.764, 54.968, 54.18, 53.411, 52.668, 51.95, 51.256, 50.584, 49.928, 49.279, 48.627, 47.97, 47.307, 46.641, 45.979, 45.33, 44.703, 44.103, 43.538, 43.014, 42.53, 42.079, 41.654, 41.241, 40.821, 40.385, 39.927, 39.45, 38.962, 38.48, 38.02, 37.6, 37.227, 36.905, 36.633, 36.402, 36.203, 36.031, 35.883, 35.76, 35.658, 35.573, 35.501, 35.435, 35.368, 35.298, 35.223, 35.141, 35.053]}, {\"boxmean\": \"sd\", \"boxpoints\": \"all\", \"marker\": {\"color\": \"rgb(0, 205, 102)\"}, \"name\": \"Nigeria\", \"type\": \"box\", \"y\": [53.95, 53.541, 53.112, 52.672, 52.228, 51.786, 51.346, 50.896, 50.422, 49.913, 49.373, 48.812, 48.252, 47.72, 47.242, 46.835, 46.51, 46.267, 46.103, 45.994, 45.923, 45.88, 45.854, 45.843, 45.845, 45.857, 45.875, 45.9, 45.939, 45.99, 46.048, 46.101, 46.127, 46.106, 46.023, 45.867, 45.637, 45.333, 44.963, 44.547, 44.104, 43.647, 43.187, 42.729, 42.276, 41.829, 41.392, 40.971, 40.569, 40.184, 39.809, 39.442, 39.072, 38.691, 38.291, 37.871, 37.431, 36.976]}, {\"boxmean\": \"sd\", \"boxpoints\": \"all\", \"marker\": {\"color\": \"rgb(0, 139, 69)\"}, \"name\": \"Central African Republic\", \"type\": \"box\", \"y\": [52.24, 51.593, 50.881, 50.129, 49.371, 48.638, 47.95, 47.312, 46.719, 46.161, 45.636, 45.158, 44.744, 44.413, 44.182, 44.063, 44.061, 44.19, 44.461, 44.857, 45.353, 45.922, 46.53, 47.143, 47.731, 48.267, 48.728, 49.104, 49.397, 49.624, 49.797, 49.912, 49.966, 49.955, 49.872, 49.713, 49.476, 49.153, 48.737, 48.233, 47.648, 46.992, 46.275, 45.504, 44.695, 43.866, 43.036, 42.223, 41.444, 40.703, 40.005, 39.355, 38.754, 38.201, 37.683, 37.19, 36.715, 36.249]}, {\"boxmean\": \"sd\", \"boxpoints\": \"all\", \"marker\": {\"color\": \"rgb(0, 255, 0)\"}, \"name\": \"Chad\", \"type\": \"box\", \"y\": [53.712, 53.438, 53.137, 52.789, 52.386, 51.928, 51.424, 50.89, 50.346, 49.82, 49.335, 48.907, 48.549, 48.27, 48.057, 47.9, 47.789, 47.713, 47.657, 47.61, 47.559, 47.498, 47.426, 47.345, 47.265, 47.187, 47.108, 47.019, 46.91, 46.772, 46.601, 46.397, 46.162, 45.903, 45.63, 45.351, 45.071, 44.793, 44.521, 44.251, 43.979, 43.698, 43.396, 43.059, 42.681, 42.264, 41.813, 41.344, 40.878, 40.435, 40.028, 39.665, 39.344, 39.059, 38.795, 38.536, 38.279, 38.02]}, {\"boxmean\": \"sd\", \"boxpoints\": \"all\", \"marker\": {\"color\": \"rgb(0, 205, 0)\"}, \"name\": \"Malawi\", \"type\": \"box\", \"y\": [45.136, 45.285, 45.479, 45.677, 45.846, 45.969, 46.055, 46.108, 46.121, 46.096, 46.038, 45.957, 45.86, 45.746, 45.606, 45.432, 45.216, 44.954, 44.646, 44.296, 43.912, 43.504, 43.082, 42.649, 42.206, 41.744, 41.262, 40.762, 40.254, 39.756, 39.289, 38.866, 38.494, 38.174, 37.899, 37.655, 37.421, 37.183, 36.934, 36.672, 63.279, 62.681, 61.953, 61.042, 59.931, 58.629, 57.161, 55.564, 53.888, 52.206, 50.595, 49.118, 47.844, 46.823, 46.052, 45.517, 45.204, 45.09]}, {\"boxmean\": \"sd\", \"boxpoints\": \"all\", \"marker\": {\"color\": \"rgb(0, 139, 0)\"}, \"name\": \"Angola\", \"type\": \"box\", \"y\": [60.379, 59.925, 59.398, 58.776, 58.054, 57.236, 56.33, 55.35, 54.311, 53.243, 52.177, 51.143, 50.165, 49.263, 48.44, 47.702, 47.059, 46.522, 46.093, 45.763, 45.519, 45.35, 45.246, 45.201, 45.201, 45.23, 45.271, 45.306, 45.324, 45.317, 45.283, 45.213, 45.107, 44.966, 44.799, 44.611, 44.404, 44.178, 43.931, 43.66, 43.367, 43.053, 42.721, 42.374, 42.016, 41.65, 41.282, 40.914, 40.546, 40.178, 39.813, 39.454, 39.102, 38.76, 38.43, 38.113, 37.811, 37.524]}, {\"boxmean\": \"sd\", \"boxpoints\": \"all\", \"marker\": {\"color\": \"rgb(102, 205, 0)\"}, \"name\": \"Mozambique\", \"type\": \"box\", \"y\": [59.309, 58.309, 57.206, 56.062, 54.949, 53.931, 53.043, 52.31, 51.738, 51.292, 50.934, 50.641, 50.387, 50.143, 49.889, 49.61, 49.295, 48.946, 48.572, 48.194, 47.826, 47.47, 47.123, 46.772, 46.41, 46.033, 45.647, 45.261, 44.887, 44.541, 44.235, 43.975, 43.772, 43.637, 43.56, 43.527, 43.521, 43.515, 43.479, 43.391, 43.242, 43.028, 42.759, 42.451, 42.135, 41.836, 41.567, 41.343, 41.178, 41.061, 40.975, 40.904, 40.822, 40.698, 40.508, 40.238, 39.879, 39.439]}],\n",
       "                        {\"template\": {\"data\": {\"bar\": [{\"error_x\": {\"color\": \"#2a3f5f\"}, \"error_y\": {\"color\": \"#2a3f5f\"}, \"marker\": {\"line\": {\"color\": \"#E5ECF6\", \"width\": 0.5}}, \"type\": \"bar\"}], \"barpolar\": [{\"marker\": {\"line\": {\"color\": \"#E5ECF6\", \"width\": 0.5}}, \"type\": \"barpolar\"}], \"carpet\": [{\"aaxis\": {\"endlinecolor\": \"#2a3f5f\", \"gridcolor\": \"white\", \"linecolor\": \"white\", \"minorgridcolor\": \"white\", \"startlinecolor\": \"#2a3f5f\"}, \"baxis\": {\"endlinecolor\": \"#2a3f5f\", \"gridcolor\": \"white\", \"linecolor\": \"white\", \"minorgridcolor\": \"white\", \"startlinecolor\": \"#2a3f5f\"}, \"type\": \"carpet\"}], \"choropleth\": [{\"colorbar\": {\"outlinewidth\": 0, \"ticks\": \"\"}, \"type\": \"choropleth\"}], \"contour\": [{\"colorbar\": {\"outlinewidth\": 0, \"ticks\": \"\"}, \"colorscale\": [[0.0, \"#0d0887\"], [0.1111111111111111, \"#46039f\"], [0.2222222222222222, \"#7201a8\"], [0.3333333333333333, \"#9c179e\"], [0.4444444444444444, \"#bd3786\"], [0.5555555555555556, \"#d8576b\"], [0.6666666666666666, \"#ed7953\"], [0.7777777777777778, \"#fb9f3a\"], [0.8888888888888888, \"#fdca26\"], [1.0, \"#f0f921\"]], \"type\": \"contour\"}], \"contourcarpet\": [{\"colorbar\": {\"outlinewidth\": 0, \"ticks\": \"\"}, \"type\": \"contourcarpet\"}], \"heatmap\": [{\"colorbar\": {\"outlinewidth\": 0, \"ticks\": \"\"}, \"colorscale\": [[0.0, \"#0d0887\"], [0.1111111111111111, \"#46039f\"], [0.2222222222222222, \"#7201a8\"], [0.3333333333333333, \"#9c179e\"], [0.4444444444444444, \"#bd3786\"], [0.5555555555555556, \"#d8576b\"], [0.6666666666666666, \"#ed7953\"], [0.7777777777777778, \"#fb9f3a\"], [0.8888888888888888, \"#fdca26\"], [1.0, \"#f0f921\"]], \"type\": \"heatmap\"}], \"heatmapgl\": [{\"colorbar\": {\"outlinewidth\": 0, \"ticks\": \"\"}, \"colorscale\": [[0.0, \"#0d0887\"], [0.1111111111111111, \"#46039f\"], [0.2222222222222222, \"#7201a8\"], [0.3333333333333333, \"#9c179e\"], [0.4444444444444444, \"#bd3786\"], [0.5555555555555556, \"#d8576b\"], [0.6666666666666666, \"#ed7953\"], [0.7777777777777778, \"#fb9f3a\"], [0.8888888888888888, \"#fdca26\"], [1.0, \"#f0f921\"]], \"type\": \"heatmapgl\"}], \"histogram\": [{\"marker\": {\"colorbar\": {\"outlinewidth\": 0, \"ticks\": \"\"}}, \"type\": \"histogram\"}], \"histogram2d\": [{\"colorbar\": {\"outlinewidth\": 0, \"ticks\": \"\"}, \"colorscale\": [[0.0, \"#0d0887\"], [0.1111111111111111, \"#46039f\"], [0.2222222222222222, \"#7201a8\"], [0.3333333333333333, \"#9c179e\"], [0.4444444444444444, \"#bd3786\"], [0.5555555555555556, \"#d8576b\"], [0.6666666666666666, \"#ed7953\"], [0.7777777777777778, \"#fb9f3a\"], [0.8888888888888888, \"#fdca26\"], [1.0, \"#f0f921\"]], \"type\": \"histogram2d\"}], \"histogram2dcontour\": [{\"colorbar\": {\"outlinewidth\": 0, \"ticks\": \"\"}, \"colorscale\": [[0.0, \"#0d0887\"], [0.1111111111111111, \"#46039f\"], [0.2222222222222222, \"#7201a8\"], [0.3333333333333333, \"#9c179e\"], [0.4444444444444444, \"#bd3786\"], [0.5555555555555556, \"#d8576b\"], [0.6666666666666666, \"#ed7953\"], [0.7777777777777778, \"#fb9f3a\"], [0.8888888888888888, \"#fdca26\"], [1.0, \"#f0f921\"]], \"type\": \"histogram2dcontour\"}], \"mesh3d\": [{\"colorbar\": {\"outlinewidth\": 0, \"ticks\": \"\"}, \"type\": \"mesh3d\"}], \"parcoords\": [{\"line\": {\"colorbar\": {\"outlinewidth\": 0, \"ticks\": \"\"}}, \"type\": \"parcoords\"}], \"pie\": [{\"automargin\": true, \"type\": \"pie\"}], \"scatter\": [{\"marker\": {\"colorbar\": {\"outlinewidth\": 0, \"ticks\": \"\"}}, \"type\": \"scatter\"}], \"scatter3d\": [{\"line\": {\"colorbar\": {\"outlinewidth\": 0, \"ticks\": \"\"}}, \"marker\": {\"colorbar\": {\"outlinewidth\": 0, \"ticks\": \"\"}}, \"type\": \"scatter3d\"}], \"scattercarpet\": [{\"marker\": {\"colorbar\": {\"outlinewidth\": 0, \"ticks\": \"\"}}, \"type\": \"scattercarpet\"}], \"scattergeo\": [{\"marker\": {\"colorbar\": {\"outlinewidth\": 0, \"ticks\": \"\"}}, \"type\": \"scattergeo\"}], \"scattergl\": [{\"marker\": {\"colorbar\": {\"outlinewidth\": 0, \"ticks\": \"\"}}, \"type\": \"scattergl\"}], \"scattermapbox\": [{\"marker\": {\"colorbar\": {\"outlinewidth\": 0, \"ticks\": \"\"}}, \"type\": \"scattermapbox\"}], \"scatterpolar\": [{\"marker\": {\"colorbar\": {\"outlinewidth\": 0, \"ticks\": \"\"}}, \"type\": \"scatterpolar\"}], \"scatterpolargl\": [{\"marker\": {\"colorbar\": {\"outlinewidth\": 0, \"ticks\": \"\"}}, \"type\": \"scatterpolargl\"}], \"scatterternary\": [{\"marker\": {\"colorbar\": {\"outlinewidth\": 0, \"ticks\": \"\"}}, \"type\": \"scatterternary\"}], \"surface\": [{\"colorbar\": {\"outlinewidth\": 0, \"ticks\": \"\"}, \"colorscale\": [[0.0, \"#0d0887\"], [0.1111111111111111, \"#46039f\"], [0.2222222222222222, \"#7201a8\"], [0.3333333333333333, \"#9c179e\"], [0.4444444444444444, \"#bd3786\"], [0.5555555555555556, \"#d8576b\"], [0.6666666666666666, \"#ed7953\"], [0.7777777777777778, \"#fb9f3a\"], [0.8888888888888888, \"#fdca26\"], [1.0, \"#f0f921\"]], \"type\": \"surface\"}], \"table\": [{\"cells\": {\"fill\": {\"color\": \"#EBF0F8\"}, \"line\": {\"color\": \"white\"}}, \"header\": {\"fill\": {\"color\": \"#C8D4E3\"}, \"line\": {\"color\": \"white\"}}, \"type\": \"table\"}]}, \"layout\": {\"annotationdefaults\": {\"arrowcolor\": \"#2a3f5f\", \"arrowhead\": 0, \"arrowwidth\": 1}, \"coloraxis\": {\"colorbar\": {\"outlinewidth\": 0, \"ticks\": \"\"}}, \"colorscale\": {\"diverging\": [[0, \"#8e0152\"], [0.1, \"#c51b7d\"], [0.2, \"#de77ae\"], [0.3, \"#f1b6da\"], [0.4, \"#fde0ef\"], [0.5, \"#f7f7f7\"], [0.6, \"#e6f5d0\"], [0.7, \"#b8e186\"], [0.8, \"#7fbc41\"], [0.9, \"#4d9221\"], [1, \"#276419\"]], \"sequential\": [[0.0, \"#0d0887\"], [0.1111111111111111, \"#46039f\"], [0.2222222222222222, \"#7201a8\"], [0.3333333333333333, \"#9c179e\"], [0.4444444444444444, \"#bd3786\"], [0.5555555555555556, \"#d8576b\"], [0.6666666666666666, \"#ed7953\"], [0.7777777777777778, \"#fb9f3a\"], [0.8888888888888888, \"#fdca26\"], [1.0, \"#f0f921\"]], \"sequentialminus\": [[0.0, \"#0d0887\"], [0.1111111111111111, \"#46039f\"], [0.2222222222222222, \"#7201a8\"], [0.3333333333333333, \"#9c179e\"], [0.4444444444444444, \"#bd3786\"], [0.5555555555555556, \"#d8576b\"], [0.6666666666666666, \"#ed7953\"], [0.7777777777777778, \"#fb9f3a\"], [0.8888888888888888, \"#fdca26\"], [1.0, \"#f0f921\"]]}, \"colorway\": [\"#636efa\", \"#EF553B\", \"#00cc96\", \"#ab63fa\", \"#FFA15A\", \"#19d3f3\", \"#FF6692\", \"#B6E880\", \"#FF97FF\", \"#FECB52\"], \"font\": {\"color\": \"#2a3f5f\"}, \"geo\": {\"bgcolor\": \"white\", \"lakecolor\": \"white\", \"landcolor\": \"#E5ECF6\", \"showlakes\": true, \"showland\": true, \"subunitcolor\": \"white\"}, \"hoverlabel\": {\"align\": \"left\"}, \"hovermode\": \"closest\", \"mapbox\": {\"style\": \"light\"}, \"paper_bgcolor\": \"white\", \"plot_bgcolor\": \"#E5ECF6\", \"polar\": {\"angularaxis\": {\"gridcolor\": \"white\", \"linecolor\": \"white\", \"ticks\": \"\"}, \"bgcolor\": \"#E5ECF6\", \"radialaxis\": {\"gridcolor\": \"white\", \"linecolor\": \"white\", \"ticks\": \"\"}}, \"scene\": {\"xaxis\": {\"backgroundcolor\": \"#E5ECF6\", \"gridcolor\": \"white\", \"gridwidth\": 2, \"linecolor\": \"white\", \"showbackground\": true, \"ticks\": \"\", \"zerolinecolor\": \"white\"}, \"yaxis\": {\"backgroundcolor\": \"#E5ECF6\", \"gridcolor\": \"white\", \"gridwidth\": 2, \"linecolor\": \"white\", \"showbackground\": true, \"ticks\": \"\", \"zerolinecolor\": \"white\"}, \"zaxis\": {\"backgroundcolor\": \"#E5ECF6\", \"gridcolor\": \"white\", \"gridwidth\": 2, \"linecolor\": \"white\", \"showbackground\": true, \"ticks\": \"\", \"zerolinecolor\": \"white\"}}, \"shapedefaults\": {\"line\": {\"color\": \"#2a3f5f\"}}, \"ternary\": {\"aaxis\": {\"gridcolor\": \"white\", \"linecolor\": \"white\", \"ticks\": \"\"}, \"baxis\": {\"gridcolor\": \"white\", \"linecolor\": \"white\", \"ticks\": \"\"}, \"bgcolor\": \"#E5ECF6\", \"caxis\": {\"gridcolor\": \"white\", \"linecolor\": \"white\", \"ticks\": \"\"}}, \"title\": {\"x\": 0.05}, \"xaxis\": {\"automargin\": true, \"gridcolor\": \"white\", \"linecolor\": \"white\", \"ticks\": \"\", \"title\": {\"standoff\": 15}, \"zerolinecolor\": \"white\", \"zerolinewidth\": 2}, \"yaxis\": {\"automargin\": true, \"gridcolor\": \"white\", \"linecolor\": \"white\", \"ticks\": \"\", \"title\": {\"standoff\": 15}, \"zerolinecolor\": \"white\", \"zerolinewidth\": 2}}}},\n",
       "                        {\"responsive\": true}\n",
       "                    ).then(function(){\n",
       "                            \n",
       "var gd = document.getElementById('42ab1fbe-1585-4b20-aa9f-3c571990e487');\n",
       "var x = new MutationObserver(function (mutations, observer) {{\n",
       "        var display = window.getComputedStyle(gd).display;\n",
       "        if (!display || display === 'none') {{\n",
       "            console.log([gd, 'removed!']);\n",
       "            Plotly.purge(gd);\n",
       "            observer.disconnect();\n",
       "        }}\n",
       "}});\n",
       "\n",
       "// Listen for the removal of the full notebook cells\n",
       "var notebookContainer = gd.closest('#notebook-container');\n",
       "if (notebookContainer) {{\n",
       "    x.observe(notebookContainer, {childList: true});\n",
       "}}\n",
       "\n",
       "// Listen for the clearing of the current output cell\n",
       "var outputEl = gd.closest('.output');\n",
       "if (outputEl) {{\n",
       "    x.observe(outputEl, {childList: true});\n",
       "}}\n",
       "\n",
       "                        })\n",
       "                };\n",
       "                });\n",
       "            </script>\n",
       "        </div>"
      ]
     },
     "metadata": {},
     "output_type": "display_data"
    },
    {
     "data": {
      "application/vnd.plotly.v1+json": {
       "config": {
        "linkText": "Export to plot.ly",
        "plotlyServerURL": "https://plot.ly",
        "showLink": false
       },
       "data": [
        {
         "boxmean": "sd",
         "boxpoints": "all",
         "marker": {
          "color": "rgb(0, 0, 128)"
         },
         "name": "San Marino",
         "type": "box",
         "y": [
          85.4170731707317
         ]
        },
        {
         "boxmean": "sd",
         "boxpoints": "all",
         "marker": {
          "color": "rgb(100, 149, 237)"
         },
         "name": "Cayman Islands",
         "type": "box",
         "y": [
          82.190243902439
         ]
        },
        {
         "boxmean": "sd",
         "boxpoints": "all",
         "marker": {
          "color": "rgb(72, 61, 139)"
         },
         "name": "Liechtenstein",
         "type": "box",
         "y": [
          82.2585365853659,
          82.2585365853659,
          82.6560975609756,
          82.0731707317073,
          82.2609756097561,
          82.3829268292683,
          81.7926829268293,
          81.8414634146342,
          81.5,
          82.6829268292683,
          81.2951219512195,
          80.9487804878049,
          80.6682926829268,
          81.7707317073171,
          79.9609756097561,
          79.6365853658537,
          79.2756097560976,
          76.8268292682927,
          79.109756097561,
          77.7463414634146,
          76.0463414634146,
          76.8365853658537,
          77.390243902439,
          78.4219512195122
         ]
        },
        {
         "boxmean": "sd",
         "boxpoints": "all",
         "marker": {
          "color": "rgb(123, 104, 238)"
         },
         "name": "Faroe Islands",
         "type": "box",
         "y": [
          82.4,
          82.1975609756098,
          81.9463414634146,
          81.6951219512195,
          81.3926829268293,
          81.1414634146341,
          80.890243902439,
          80.5878048780488,
          80.3878048780488,
          80.1390243902439,
          79.890243902439,
          79.690243902439,
          79.4414634146342,
          79.190243902439,
          78.990243902439,
          78.7878048780488,
          78.6365853658537,
          78.4341463414634,
          78.2804878048781,
          78.0268292682927,
          77.8243902439025,
          77.5707317073171,
          77.3682926829268,
          77.0658536585366,
          76.8146341463415,
          76.6146341463415,
          76.4146341463415,
          76.1146341463415,
          75.9146341463415,
          75.7146341463415,
          75.4658536585366,
          75.2146341463415,
          75.9853658536586,
          74.4975609756098
         ]
        },
        {
         "boxmean": "sd",
         "boxpoints": "all",
         "marker": {
          "color": "rgb(65, 105, 225)"
         },
         "name": "Bermuda",
         "type": "box",
         "y": [
          81.4419512195122,
          81.2270731707317,
          81.0121951219512,
          80.7973170731707,
          80.5724390243902,
          81.6778048780488,
          81.1526829268293,
          79.2885365853658,
          79.3884390243903,
          79.2365853658537,
          78.9341463414634,
          78.8878048780488,
          78.6853658536586,
          78.4853658536586,
          78.3341463414634,
          78.0878048780488,
          77.8853658536585,
          77.8853658536585,
          74.029512195122,
          72.3046341463415,
          70.29,
          68.8978048780488
         ]
        },
        {
         "boxmean": "sd",
         "boxpoints": "all",
         "marker": {
          "color": "rgb(0, 0, 255)"
         },
         "name": "Iceland",
         "type": "box",
         "y": [
          82.2048780487805,
          82.2048780487805,
          82.4682926829268,
          82.8609756097561,
          82.0609756097561,
          82.9170731707317,
          82.3585365853659,
          81.8975609756098,
          81.7512195121951,
          81.609756097561,
          81.4536585365854,
          81.1585365853659,
          81.5024390243902,
          80.9975609756098,
          80.9634146341464,
          80.5024390243903,
          80.690243902439,
          79.6536585365854,
          79.3512195121951,
          79.6024390243903,
          78.8853658536585,
          78.7778048780488,
          77.9843902439024,
          79.2470731707317,
          78.9346341463415,
          78.760243902439,
          77.9919512195122,
          78.0363414634146,
          78.1409756097561,
          77.0829268292683,
          77.3390243902439,
          77.9907317073171,
          77.6024390243903,
          77.5765853658537,
          76.8456097560976,
          77.0378048780488,
          76.5214634146341,
          76.8465853658537,
          76.7731707317073,
          76.6492682926829,
          76.3736585365854,
          76.9721951219512,
          75.5787804878049,
          74.5117073170732,
          74.4509756097561,
          74.4558536585366,
          73.5704878048781,
          73.9339024390244,
          73.7763414634147,
          74.0058536585366,
          73.7831707317073,
          73.3004878048781,
          73.8687804878049,
          73.5417073170732,
          73.0429268292683,
          73.7219512195122,
          73.5034146341464,
          73.4231707317073
         ]
        },
        {
         "boxmean": "sd",
         "boxpoints": "all",
         "marker": {
          "color": "rgb(30, 144, 255)"
         },
         "name": "Japan",
         "type": "box",
         "y": [
          84.099756097561,
          83.9848780487805,
          83.7939024390244,
          83.5878048780488,
          83.3319512195122,
          83.0960975609756,
          82.5912195121951,
          82.8426829268293,
          82.9314634146342,
          82.5875609756098,
          82.5070731707317,
          82.3219512195122,
          81.9251219512195,
          82.030243902439,
          81.76,
          81.5634146341463,
          81.4170731707317,
          81.0760975609756,
          80.5707317073171,
          80.5014634146342,
          80.4241463414634,
          80.200243902439,
          79.5363414634147,
          79.6870731707317,
          79.2936585365854,
          79.1539024390244,
          79.1007317073171,
          78.8368292682927,
          78.8180487804878,
          78.3992682926829,
          78.4836585365854,
          78.0646341463415,
          77.650487804878,
          77.3653658536585,
          76.9614634146342,
          76.9229268292683,
          76.4143902439025,
          76.0917073170732,
          76.3375609756098,
          76.0382926829268,
          75.8982926829268,
          75.4568292682927,
          75.0573170731707,
          74.3939024390244,
          73.7575609756097,
          73.5065853658537,
          72.8829268292683,
          71.950243902439,
          71.8387804878049,
          71.6112195121951,
          71.2765853658537,
          70.9865853658537,
          70.2019512195122,
          70.1324390243903,
          69.6580487804878,
          68.5948780487805,
          68.31,
          67.6660975609756
         ]
        },
        {
         "boxmean": "sd",
         "boxpoints": "all",
         "marker": {
          "color": "rgb(0, 191, 255)"
         },
         "name": "Sweden",
         "type": "box",
         "y": [
          82.3073170731707,
          82.3073170731707,
          82.2048780487805,
          82.2536585365854,
          81.9560975609756,
          81.7048780487805,
          81.8024390243903,
          81.4512195121951,
          81.3512195121951,
          81.1,
          80.9,
          80.7487804878049,
          80.5463414634146,
          80.4975609756098,
          80.0951219512195,
          79.8463414634146,
          79.7951219512195,
          79.6439024390244,
          79.4414634146342,
          79.3390243902439,
          79.1975609756098,
          78.9590243902439,
          78.7404878048781,
          78.650243902439,
          78.0604878048781,
          77.9987804878049,
          77.6668292682927,
          77.5368292682927,
          77.7268292682927,
          76.9792682926829,
          77.0921951219512,
          76.9312195121951,
          76.6678048780488,
          76.8158536585366,
          76.5517073170732,
          76.3273170731707,
          76.0260975609756,
          75.7409756097561,
          75.5241463414634,
          75.4690243902439,
          75.379756097561,
          74.9692682926829,
          74.9846341463415,
          74.9804878048781,
          74.8673170731707,
          74.7180487804878,
          74.6239024390244,
          74.6492682926829,
          74.0848780487805,
          73.9729268292683,
          74.1224390243903,
          74.0785365853659,
          73.8617073170732,
          73.7331707317073,
          73.5553658536585,
          73.3504878048781,
          73.4743902439024,
          73.0056097560976
         ]
        },
        {
         "boxmean": "sd",
         "boxpoints": "all",
         "marker": {
          "color": "rgb(135, 206, 250)"
         },
         "name": "Switzerland",
         "type": "box",
         "y": [
          83.6024390243903,
          83.6024390243903,
          82.8975609756098,
          83.1975609756098,
          82.7975609756098,
          82.6975609756098,
          82.6951219512195,
          82.2463414634147,
          82.0439024390244,
          81.9926829268293,
          81.7414634146342,
          81.490243902439,
          81.2365853658537,
          81.0878048780488,
          80.5365853658537,
          80.3853658536585,
          80.1804878048781,
          79.6804878048781,
          79.580487804878,
          79.3243902439025,
          79.079512195122,
          78.8960975609756,
          78.4170731707317,
          78.35,
          78.0853658536586,
          77.8060975609756,
          77.5146341463415,
          77.2424390243902,
          77.4212195121951,
          77.2265853658537,
          77.1975609756098,
          76.8990243902439,
          76.7336585365854,
          76.6085365853659,
          76.0312195121951,
          76.0339024390244,
          75.6931707317073,
          75.459268292683,
          75.4660975609756,
          75.1873170731707,
          75.2380487804878,
          74.7853658536585,
          74.6656097560976,
          74.2870731707317,
          73.9409756097561,
          73.6443902439025,
          73.1307317073171,
          73.020243902439,
          72.6126829268293,
          72.590243902439,
          72.6365853658537,
          72.3356097560976,
          72.2017073170732,
          72.0778048780488,
          71.1875609756098,
          71.1960975609756,
          71.6448780487805,
          71.3134146341463
         ]
        },
        {
         "boxmean": "sd",
         "boxpoints": "all",
         "marker": {
          "color": "rgb(70, 130, 1805)"
         },
         "name": "Isle of Man",
         "type": "box",
         "y": [
          77.9658536585366,
          76.5292682926829
         ]
        }
       ],
       "layout": {
        "template": {
         "data": {
          "bar": [
           {
            "error_x": {
             "color": "#2a3f5f"
            },
            "error_y": {
             "color": "#2a3f5f"
            },
            "marker": {
             "line": {
              "color": "#E5ECF6",
              "width": 0.5
             }
            },
            "type": "bar"
           }
          ],
          "barpolar": [
           {
            "marker": {
             "line": {
              "color": "#E5ECF6",
              "width": 0.5
             }
            },
            "type": "barpolar"
           }
          ],
          "carpet": [
           {
            "aaxis": {
             "endlinecolor": "#2a3f5f",
             "gridcolor": "white",
             "linecolor": "white",
             "minorgridcolor": "white",
             "startlinecolor": "#2a3f5f"
            },
            "baxis": {
             "endlinecolor": "#2a3f5f",
             "gridcolor": "white",
             "linecolor": "white",
             "minorgridcolor": "white",
             "startlinecolor": "#2a3f5f"
            },
            "type": "carpet"
           }
          ],
          "choropleth": [
           {
            "colorbar": {
             "outlinewidth": 0,
             "ticks": ""
            },
            "type": "choropleth"
           }
          ],
          "contour": [
           {
            "colorbar": {
             "outlinewidth": 0,
             "ticks": ""
            },
            "colorscale": [
             [
              0,
              "#0d0887"
             ],
             [
              0.1111111111111111,
              "#46039f"
             ],
             [
              0.2222222222222222,
              "#7201a8"
             ],
             [
              0.3333333333333333,
              "#9c179e"
             ],
             [
              0.4444444444444444,
              "#bd3786"
             ],
             [
              0.5555555555555556,
              "#d8576b"
             ],
             [
              0.6666666666666666,
              "#ed7953"
             ],
             [
              0.7777777777777778,
              "#fb9f3a"
             ],
             [
              0.8888888888888888,
              "#fdca26"
             ],
             [
              1,
              "#f0f921"
             ]
            ],
            "type": "contour"
           }
          ],
          "contourcarpet": [
           {
            "colorbar": {
             "outlinewidth": 0,
             "ticks": ""
            },
            "type": "contourcarpet"
           }
          ],
          "heatmap": [
           {
            "colorbar": {
             "outlinewidth": 0,
             "ticks": ""
            },
            "colorscale": [
             [
              0,
              "#0d0887"
             ],
             [
              0.1111111111111111,
              "#46039f"
             ],
             [
              0.2222222222222222,
              "#7201a8"
             ],
             [
              0.3333333333333333,
              "#9c179e"
             ],
             [
              0.4444444444444444,
              "#bd3786"
             ],
             [
              0.5555555555555556,
              "#d8576b"
             ],
             [
              0.6666666666666666,
              "#ed7953"
             ],
             [
              0.7777777777777778,
              "#fb9f3a"
             ],
             [
              0.8888888888888888,
              "#fdca26"
             ],
             [
              1,
              "#f0f921"
             ]
            ],
            "type": "heatmap"
           }
          ],
          "heatmapgl": [
           {
            "colorbar": {
             "outlinewidth": 0,
             "ticks": ""
            },
            "colorscale": [
             [
              0,
              "#0d0887"
             ],
             [
              0.1111111111111111,
              "#46039f"
             ],
             [
              0.2222222222222222,
              "#7201a8"
             ],
             [
              0.3333333333333333,
              "#9c179e"
             ],
             [
              0.4444444444444444,
              "#bd3786"
             ],
             [
              0.5555555555555556,
              "#d8576b"
             ],
             [
              0.6666666666666666,
              "#ed7953"
             ],
             [
              0.7777777777777778,
              "#fb9f3a"
             ],
             [
              0.8888888888888888,
              "#fdca26"
             ],
             [
              1,
              "#f0f921"
             ]
            ],
            "type": "heatmapgl"
           }
          ],
          "histogram": [
           {
            "marker": {
             "colorbar": {
              "outlinewidth": 0,
              "ticks": ""
             }
            },
            "type": "histogram"
           }
          ],
          "histogram2d": [
           {
            "colorbar": {
             "outlinewidth": 0,
             "ticks": ""
            },
            "colorscale": [
             [
              0,
              "#0d0887"
             ],
             [
              0.1111111111111111,
              "#46039f"
             ],
             [
              0.2222222222222222,
              "#7201a8"
             ],
             [
              0.3333333333333333,
              "#9c179e"
             ],
             [
              0.4444444444444444,
              "#bd3786"
             ],
             [
              0.5555555555555556,
              "#d8576b"
             ],
             [
              0.6666666666666666,
              "#ed7953"
             ],
             [
              0.7777777777777778,
              "#fb9f3a"
             ],
             [
              0.8888888888888888,
              "#fdca26"
             ],
             [
              1,
              "#f0f921"
             ]
            ],
            "type": "histogram2d"
           }
          ],
          "histogram2dcontour": [
           {
            "colorbar": {
             "outlinewidth": 0,
             "ticks": ""
            },
            "colorscale": [
             [
              0,
              "#0d0887"
             ],
             [
              0.1111111111111111,
              "#46039f"
             ],
             [
              0.2222222222222222,
              "#7201a8"
             ],
             [
              0.3333333333333333,
              "#9c179e"
             ],
             [
              0.4444444444444444,
              "#bd3786"
             ],
             [
              0.5555555555555556,
              "#d8576b"
             ],
             [
              0.6666666666666666,
              "#ed7953"
             ],
             [
              0.7777777777777778,
              "#fb9f3a"
             ],
             [
              0.8888888888888888,
              "#fdca26"
             ],
             [
              1,
              "#f0f921"
             ]
            ],
            "type": "histogram2dcontour"
           }
          ],
          "mesh3d": [
           {
            "colorbar": {
             "outlinewidth": 0,
             "ticks": ""
            },
            "type": "mesh3d"
           }
          ],
          "parcoords": [
           {
            "line": {
             "colorbar": {
              "outlinewidth": 0,
              "ticks": ""
             }
            },
            "type": "parcoords"
           }
          ],
          "pie": [
           {
            "automargin": true,
            "type": "pie"
           }
          ],
          "scatter": [
           {
            "marker": {
             "colorbar": {
              "outlinewidth": 0,
              "ticks": ""
             }
            },
            "type": "scatter"
           }
          ],
          "scatter3d": [
           {
            "line": {
             "colorbar": {
              "outlinewidth": 0,
              "ticks": ""
             }
            },
            "marker": {
             "colorbar": {
              "outlinewidth": 0,
              "ticks": ""
             }
            },
            "type": "scatter3d"
           }
          ],
          "scattercarpet": [
           {
            "marker": {
             "colorbar": {
              "outlinewidth": 0,
              "ticks": ""
             }
            },
            "type": "scattercarpet"
           }
          ],
          "scattergeo": [
           {
            "marker": {
             "colorbar": {
              "outlinewidth": 0,
              "ticks": ""
             }
            },
            "type": "scattergeo"
           }
          ],
          "scattergl": [
           {
            "marker": {
             "colorbar": {
              "outlinewidth": 0,
              "ticks": ""
             }
            },
            "type": "scattergl"
           }
          ],
          "scattermapbox": [
           {
            "marker": {
             "colorbar": {
              "outlinewidth": 0,
              "ticks": ""
             }
            },
            "type": "scattermapbox"
           }
          ],
          "scatterpolar": [
           {
            "marker": {
             "colorbar": {
              "outlinewidth": 0,
              "ticks": ""
             }
            },
            "type": "scatterpolar"
           }
          ],
          "scatterpolargl": [
           {
            "marker": {
             "colorbar": {
              "outlinewidth": 0,
              "ticks": ""
             }
            },
            "type": "scatterpolargl"
           }
          ],
          "scatterternary": [
           {
            "marker": {
             "colorbar": {
              "outlinewidth": 0,
              "ticks": ""
             }
            },
            "type": "scatterternary"
           }
          ],
          "surface": [
           {
            "colorbar": {
             "outlinewidth": 0,
             "ticks": ""
            },
            "colorscale": [
             [
              0,
              "#0d0887"
             ],
             [
              0.1111111111111111,
              "#46039f"
             ],
             [
              0.2222222222222222,
              "#7201a8"
             ],
             [
              0.3333333333333333,
              "#9c179e"
             ],
             [
              0.4444444444444444,
              "#bd3786"
             ],
             [
              0.5555555555555556,
              "#d8576b"
             ],
             [
              0.6666666666666666,
              "#ed7953"
             ],
             [
              0.7777777777777778,
              "#fb9f3a"
             ],
             [
              0.8888888888888888,
              "#fdca26"
             ],
             [
              1,
              "#f0f921"
             ]
            ],
            "type": "surface"
           }
          ],
          "table": [
           {
            "cells": {
             "fill": {
              "color": "#EBF0F8"
             },
             "line": {
              "color": "white"
             }
            },
            "header": {
             "fill": {
              "color": "#C8D4E3"
             },
             "line": {
              "color": "white"
             }
            },
            "type": "table"
           }
          ]
         },
         "layout": {
          "annotationdefaults": {
           "arrowcolor": "#2a3f5f",
           "arrowhead": 0,
           "arrowwidth": 1
          },
          "coloraxis": {
           "colorbar": {
            "outlinewidth": 0,
            "ticks": ""
           }
          },
          "colorscale": {
           "diverging": [
            [
             0,
             "#8e0152"
            ],
            [
             0.1,
             "#c51b7d"
            ],
            [
             0.2,
             "#de77ae"
            ],
            [
             0.3,
             "#f1b6da"
            ],
            [
             0.4,
             "#fde0ef"
            ],
            [
             0.5,
             "#f7f7f7"
            ],
            [
             0.6,
             "#e6f5d0"
            ],
            [
             0.7,
             "#b8e186"
            ],
            [
             0.8,
             "#7fbc41"
            ],
            [
             0.9,
             "#4d9221"
            ],
            [
             1,
             "#276419"
            ]
           ],
           "sequential": [
            [
             0,
             "#0d0887"
            ],
            [
             0.1111111111111111,
             "#46039f"
            ],
            [
             0.2222222222222222,
             "#7201a8"
            ],
            [
             0.3333333333333333,
             "#9c179e"
            ],
            [
             0.4444444444444444,
             "#bd3786"
            ],
            [
             0.5555555555555556,
             "#d8576b"
            ],
            [
             0.6666666666666666,
             "#ed7953"
            ],
            [
             0.7777777777777778,
             "#fb9f3a"
            ],
            [
             0.8888888888888888,
             "#fdca26"
            ],
            [
             1,
             "#f0f921"
            ]
           ],
           "sequentialminus": [
            [
             0,
             "#0d0887"
            ],
            [
             0.1111111111111111,
             "#46039f"
            ],
            [
             0.2222222222222222,
             "#7201a8"
            ],
            [
             0.3333333333333333,
             "#9c179e"
            ],
            [
             0.4444444444444444,
             "#bd3786"
            ],
            [
             0.5555555555555556,
             "#d8576b"
            ],
            [
             0.6666666666666666,
             "#ed7953"
            ],
            [
             0.7777777777777778,
             "#fb9f3a"
            ],
            [
             0.8888888888888888,
             "#fdca26"
            ],
            [
             1,
             "#f0f921"
            ]
           ]
          },
          "colorway": [
           "#636efa",
           "#EF553B",
           "#00cc96",
           "#ab63fa",
           "#FFA15A",
           "#19d3f3",
           "#FF6692",
           "#B6E880",
           "#FF97FF",
           "#FECB52"
          ],
          "font": {
           "color": "#2a3f5f"
          },
          "geo": {
           "bgcolor": "white",
           "lakecolor": "white",
           "landcolor": "#E5ECF6",
           "showlakes": true,
           "showland": true,
           "subunitcolor": "white"
          },
          "hoverlabel": {
           "align": "left"
          },
          "hovermode": "closest",
          "mapbox": {
           "style": "light"
          },
          "paper_bgcolor": "white",
          "plot_bgcolor": "#E5ECF6",
          "polar": {
           "angularaxis": {
            "gridcolor": "white",
            "linecolor": "white",
            "ticks": ""
           },
           "bgcolor": "#E5ECF6",
           "radialaxis": {
            "gridcolor": "white",
            "linecolor": "white",
            "ticks": ""
           }
          },
          "scene": {
           "xaxis": {
            "backgroundcolor": "#E5ECF6",
            "gridcolor": "white",
            "gridwidth": 2,
            "linecolor": "white",
            "showbackground": true,
            "ticks": "",
            "zerolinecolor": "white"
           },
           "yaxis": {
            "backgroundcolor": "#E5ECF6",
            "gridcolor": "white",
            "gridwidth": 2,
            "linecolor": "white",
            "showbackground": true,
            "ticks": "",
            "zerolinecolor": "white"
           },
           "zaxis": {
            "backgroundcolor": "#E5ECF6",
            "gridcolor": "white",
            "gridwidth": 2,
            "linecolor": "white",
            "showbackground": true,
            "ticks": "",
            "zerolinecolor": "white"
           }
          },
          "shapedefaults": {
           "line": {
            "color": "#2a3f5f"
           }
          },
          "ternary": {
           "aaxis": {
            "gridcolor": "white",
            "linecolor": "white",
            "ticks": ""
           },
           "baxis": {
            "gridcolor": "white",
            "linecolor": "white",
            "ticks": ""
           },
           "bgcolor": "#E5ECF6",
           "caxis": {
            "gridcolor": "white",
            "linecolor": "white",
            "ticks": ""
           }
          },
          "title": {
           "x": 0.05
          },
          "xaxis": {
           "automargin": true,
           "gridcolor": "white",
           "linecolor": "white",
           "ticks": "",
           "title": {
            "standoff": 15
           },
           "zerolinecolor": "white",
           "zerolinewidth": 2
          },
          "yaxis": {
           "automargin": true,
           "gridcolor": "white",
           "linecolor": "white",
           "ticks": "",
           "title": {
            "standoff": 15
           },
           "zerolinecolor": "white",
           "zerolinewidth": 2
          }
         }
        }
       }
      },
      "text/html": [
       "<div>\n",
       "        \n",
       "        \n",
       "            <div id=\"30291118-d844-4567-a615-dc24f47ab3b4\" class=\"plotly-graph-div\" style=\"height:525px; width:100%;\"></div>\n",
       "            <script type=\"text/javascript\">\n",
       "                require([\"plotly\"], function(Plotly) {\n",
       "                    window.PLOTLYENV=window.PLOTLYENV || {};\n",
       "                    \n",
       "                if (document.getElementById(\"30291118-d844-4567-a615-dc24f47ab3b4\")) {\n",
       "                    Plotly.newPlot(\n",
       "                        '30291118-d844-4567-a615-dc24f47ab3b4',\n",
       "                        [{\"boxmean\": \"sd\", \"boxpoints\": \"all\", \"marker\": {\"color\": \"rgb(0, 0, 128)\"}, \"name\": \"San Marino\", \"type\": \"box\", \"y\": [85.4170731707317]}, {\"boxmean\": \"sd\", \"boxpoints\": \"all\", \"marker\": {\"color\": \"rgb(100, 149, 237)\"}, \"name\": \"Cayman Islands\", \"type\": \"box\", \"y\": [82.190243902439]}, {\"boxmean\": \"sd\", \"boxpoints\": \"all\", \"marker\": {\"color\": \"rgb(72, 61, 139)\"}, \"name\": \"Liechtenstein\", \"type\": \"box\", \"y\": [82.2585365853659, 82.2585365853659, 82.6560975609756, 82.0731707317073, 82.2609756097561, 82.3829268292683, 81.7926829268293, 81.8414634146342, 81.5, 82.6829268292683, 81.2951219512195, 80.9487804878049, 80.6682926829268, 81.7707317073171, 79.9609756097561, 79.6365853658537, 79.2756097560976, 76.8268292682927, 79.109756097561, 77.7463414634146, 76.0463414634146, 76.8365853658537, 77.390243902439, 78.4219512195122]}, {\"boxmean\": \"sd\", \"boxpoints\": \"all\", \"marker\": {\"color\": \"rgb(123, 104, 238)\"}, \"name\": \"Faroe Islands\", \"type\": \"box\", \"y\": [82.4, 82.1975609756098, 81.9463414634146, 81.6951219512195, 81.3926829268293, 81.1414634146341, 80.890243902439, 80.5878048780488, 80.3878048780488, 80.1390243902439, 79.890243902439, 79.690243902439, 79.4414634146342, 79.190243902439, 78.990243902439, 78.7878048780488, 78.6365853658537, 78.4341463414634, 78.2804878048781, 78.0268292682927, 77.8243902439025, 77.5707317073171, 77.3682926829268, 77.0658536585366, 76.8146341463415, 76.6146341463415, 76.4146341463415, 76.1146341463415, 75.9146341463415, 75.7146341463415, 75.4658536585366, 75.2146341463415, 75.9853658536586, 74.4975609756098]}, {\"boxmean\": \"sd\", \"boxpoints\": \"all\", \"marker\": {\"color\": \"rgb(65, 105, 225)\"}, \"name\": \"Bermuda\", \"type\": \"box\", \"y\": [81.4419512195122, 81.2270731707317, 81.0121951219512, 80.7973170731707, 80.5724390243902, 81.6778048780488, 81.1526829268293, 79.2885365853658, 79.3884390243903, 79.2365853658537, 78.9341463414634, 78.8878048780488, 78.6853658536586, 78.4853658536586, 78.3341463414634, 78.0878048780488, 77.8853658536585, 77.8853658536585, 74.029512195122, 72.3046341463415, 70.29, 68.8978048780488]}, {\"boxmean\": \"sd\", \"boxpoints\": \"all\", \"marker\": {\"color\": \"rgb(0, 0, 255)\"}, \"name\": \"Iceland\", \"type\": \"box\", \"y\": [82.2048780487805, 82.2048780487805, 82.4682926829268, 82.8609756097561, 82.0609756097561, 82.9170731707317, 82.3585365853659, 81.8975609756098, 81.7512195121951, 81.609756097561, 81.4536585365854, 81.1585365853659, 81.5024390243902, 80.9975609756098, 80.9634146341464, 80.5024390243903, 80.690243902439, 79.6536585365854, 79.3512195121951, 79.6024390243903, 78.8853658536585, 78.7778048780488, 77.9843902439024, 79.2470731707317, 78.9346341463415, 78.760243902439, 77.9919512195122, 78.0363414634146, 78.1409756097561, 77.0829268292683, 77.3390243902439, 77.9907317073171, 77.6024390243903, 77.5765853658537, 76.8456097560976, 77.0378048780488, 76.5214634146341, 76.8465853658537, 76.7731707317073, 76.6492682926829, 76.3736585365854, 76.9721951219512, 75.5787804878049, 74.5117073170732, 74.4509756097561, 74.4558536585366, 73.5704878048781, 73.9339024390244, 73.7763414634147, 74.0058536585366, 73.7831707317073, 73.3004878048781, 73.8687804878049, 73.5417073170732, 73.0429268292683, 73.7219512195122, 73.5034146341464, 73.4231707317073]}, {\"boxmean\": \"sd\", \"boxpoints\": \"all\", \"marker\": {\"color\": \"rgb(30, 144, 255)\"}, \"name\": \"Japan\", \"type\": \"box\", \"y\": [84.099756097561, 83.9848780487805, 83.7939024390244, 83.5878048780488, 83.3319512195122, 83.0960975609756, 82.5912195121951, 82.8426829268293, 82.9314634146342, 82.5875609756098, 82.5070731707317, 82.3219512195122, 81.9251219512195, 82.030243902439, 81.76, 81.5634146341463, 81.4170731707317, 81.0760975609756, 80.5707317073171, 80.5014634146342, 80.4241463414634, 80.200243902439, 79.5363414634147, 79.6870731707317, 79.2936585365854, 79.1539024390244, 79.1007317073171, 78.8368292682927, 78.8180487804878, 78.3992682926829, 78.4836585365854, 78.0646341463415, 77.650487804878, 77.3653658536585, 76.9614634146342, 76.9229268292683, 76.4143902439025, 76.0917073170732, 76.3375609756098, 76.0382926829268, 75.8982926829268, 75.4568292682927, 75.0573170731707, 74.3939024390244, 73.7575609756097, 73.5065853658537, 72.8829268292683, 71.950243902439, 71.8387804878049, 71.6112195121951, 71.2765853658537, 70.9865853658537, 70.2019512195122, 70.1324390243903, 69.6580487804878, 68.5948780487805, 68.31, 67.6660975609756]}, {\"boxmean\": \"sd\", \"boxpoints\": \"all\", \"marker\": {\"color\": \"rgb(0, 191, 255)\"}, \"name\": \"Sweden\", \"type\": \"box\", \"y\": [82.3073170731707, 82.3073170731707, 82.2048780487805, 82.2536585365854, 81.9560975609756, 81.7048780487805, 81.8024390243903, 81.4512195121951, 81.3512195121951, 81.1, 80.9, 80.7487804878049, 80.5463414634146, 80.4975609756098, 80.0951219512195, 79.8463414634146, 79.7951219512195, 79.6439024390244, 79.4414634146342, 79.3390243902439, 79.1975609756098, 78.9590243902439, 78.7404878048781, 78.650243902439, 78.0604878048781, 77.9987804878049, 77.6668292682927, 77.5368292682927, 77.7268292682927, 76.9792682926829, 77.0921951219512, 76.9312195121951, 76.6678048780488, 76.8158536585366, 76.5517073170732, 76.3273170731707, 76.0260975609756, 75.7409756097561, 75.5241463414634, 75.4690243902439, 75.379756097561, 74.9692682926829, 74.9846341463415, 74.9804878048781, 74.8673170731707, 74.7180487804878, 74.6239024390244, 74.6492682926829, 74.0848780487805, 73.9729268292683, 74.1224390243903, 74.0785365853659, 73.8617073170732, 73.7331707317073, 73.5553658536585, 73.3504878048781, 73.4743902439024, 73.0056097560976]}, {\"boxmean\": \"sd\", \"boxpoints\": \"all\", \"marker\": {\"color\": \"rgb(135, 206, 250)\"}, \"name\": \"Switzerland\", \"type\": \"box\", \"y\": [83.6024390243903, 83.6024390243903, 82.8975609756098, 83.1975609756098, 82.7975609756098, 82.6975609756098, 82.6951219512195, 82.2463414634147, 82.0439024390244, 81.9926829268293, 81.7414634146342, 81.490243902439, 81.2365853658537, 81.0878048780488, 80.5365853658537, 80.3853658536585, 80.1804878048781, 79.6804878048781, 79.580487804878, 79.3243902439025, 79.079512195122, 78.8960975609756, 78.4170731707317, 78.35, 78.0853658536586, 77.8060975609756, 77.5146341463415, 77.2424390243902, 77.4212195121951, 77.2265853658537, 77.1975609756098, 76.8990243902439, 76.7336585365854, 76.6085365853659, 76.0312195121951, 76.0339024390244, 75.6931707317073, 75.459268292683, 75.4660975609756, 75.1873170731707, 75.2380487804878, 74.7853658536585, 74.6656097560976, 74.2870731707317, 73.9409756097561, 73.6443902439025, 73.1307317073171, 73.020243902439, 72.6126829268293, 72.590243902439, 72.6365853658537, 72.3356097560976, 72.2017073170732, 72.0778048780488, 71.1875609756098, 71.1960975609756, 71.6448780487805, 71.3134146341463]}, {\"boxmean\": \"sd\", \"boxpoints\": \"all\", \"marker\": {\"color\": \"rgb(70, 130, 1805)\"}, \"name\": \"Isle of Man\", \"type\": \"box\", \"y\": [77.9658536585366, 76.5292682926829]}],\n",
       "                        {\"template\": {\"data\": {\"bar\": [{\"error_x\": {\"color\": \"#2a3f5f\"}, \"error_y\": {\"color\": \"#2a3f5f\"}, \"marker\": {\"line\": {\"color\": \"#E5ECF6\", \"width\": 0.5}}, \"type\": \"bar\"}], \"barpolar\": [{\"marker\": {\"line\": {\"color\": \"#E5ECF6\", \"width\": 0.5}}, \"type\": \"barpolar\"}], \"carpet\": [{\"aaxis\": {\"endlinecolor\": \"#2a3f5f\", \"gridcolor\": \"white\", \"linecolor\": \"white\", \"minorgridcolor\": \"white\", \"startlinecolor\": \"#2a3f5f\"}, \"baxis\": {\"endlinecolor\": \"#2a3f5f\", \"gridcolor\": \"white\", \"linecolor\": \"white\", \"minorgridcolor\": \"white\", \"startlinecolor\": \"#2a3f5f\"}, \"type\": \"carpet\"}], \"choropleth\": [{\"colorbar\": {\"outlinewidth\": 0, \"ticks\": \"\"}, \"type\": \"choropleth\"}], \"contour\": [{\"colorbar\": {\"outlinewidth\": 0, \"ticks\": \"\"}, \"colorscale\": [[0.0, \"#0d0887\"], [0.1111111111111111, \"#46039f\"], [0.2222222222222222, \"#7201a8\"], [0.3333333333333333, \"#9c179e\"], [0.4444444444444444, \"#bd3786\"], [0.5555555555555556, \"#d8576b\"], [0.6666666666666666, \"#ed7953\"], [0.7777777777777778, \"#fb9f3a\"], [0.8888888888888888, \"#fdca26\"], [1.0, \"#f0f921\"]], \"type\": \"contour\"}], \"contourcarpet\": [{\"colorbar\": {\"outlinewidth\": 0, \"ticks\": \"\"}, \"type\": \"contourcarpet\"}], \"heatmap\": [{\"colorbar\": {\"outlinewidth\": 0, \"ticks\": \"\"}, \"colorscale\": [[0.0, \"#0d0887\"], [0.1111111111111111, \"#46039f\"], [0.2222222222222222, \"#7201a8\"], [0.3333333333333333, \"#9c179e\"], [0.4444444444444444, \"#bd3786\"], [0.5555555555555556, \"#d8576b\"], [0.6666666666666666, \"#ed7953\"], [0.7777777777777778, \"#fb9f3a\"], [0.8888888888888888, \"#fdca26\"], [1.0, \"#f0f921\"]], \"type\": \"heatmap\"}], \"heatmapgl\": [{\"colorbar\": {\"outlinewidth\": 0, \"ticks\": \"\"}, \"colorscale\": [[0.0, \"#0d0887\"], [0.1111111111111111, \"#46039f\"], [0.2222222222222222, \"#7201a8\"], [0.3333333333333333, \"#9c179e\"], [0.4444444444444444, \"#bd3786\"], [0.5555555555555556, \"#d8576b\"], [0.6666666666666666, \"#ed7953\"], [0.7777777777777778, \"#fb9f3a\"], [0.8888888888888888, \"#fdca26\"], [1.0, \"#f0f921\"]], \"type\": \"heatmapgl\"}], \"histogram\": [{\"marker\": {\"colorbar\": {\"outlinewidth\": 0, \"ticks\": \"\"}}, \"type\": \"histogram\"}], \"histogram2d\": [{\"colorbar\": {\"outlinewidth\": 0, \"ticks\": \"\"}, \"colorscale\": [[0.0, \"#0d0887\"], [0.1111111111111111, \"#46039f\"], [0.2222222222222222, \"#7201a8\"], [0.3333333333333333, \"#9c179e\"], [0.4444444444444444, \"#bd3786\"], [0.5555555555555556, \"#d8576b\"], [0.6666666666666666, \"#ed7953\"], [0.7777777777777778, \"#fb9f3a\"], [0.8888888888888888, \"#fdca26\"], [1.0, \"#f0f921\"]], \"type\": \"histogram2d\"}], \"histogram2dcontour\": [{\"colorbar\": {\"outlinewidth\": 0, \"ticks\": \"\"}, \"colorscale\": [[0.0, \"#0d0887\"], [0.1111111111111111, \"#46039f\"], [0.2222222222222222, \"#7201a8\"], [0.3333333333333333, \"#9c179e\"], [0.4444444444444444, \"#bd3786\"], [0.5555555555555556, \"#d8576b\"], [0.6666666666666666, \"#ed7953\"], [0.7777777777777778, \"#fb9f3a\"], [0.8888888888888888, \"#fdca26\"], [1.0, \"#f0f921\"]], \"type\": \"histogram2dcontour\"}], \"mesh3d\": [{\"colorbar\": {\"outlinewidth\": 0, \"ticks\": \"\"}, \"type\": \"mesh3d\"}], \"parcoords\": [{\"line\": {\"colorbar\": {\"outlinewidth\": 0, \"ticks\": \"\"}}, \"type\": \"parcoords\"}], \"pie\": [{\"automargin\": true, \"type\": \"pie\"}], \"scatter\": [{\"marker\": {\"colorbar\": {\"outlinewidth\": 0, \"ticks\": \"\"}}, \"type\": \"scatter\"}], \"scatter3d\": [{\"line\": {\"colorbar\": {\"outlinewidth\": 0, \"ticks\": \"\"}}, \"marker\": {\"colorbar\": {\"outlinewidth\": 0, \"ticks\": \"\"}}, \"type\": \"scatter3d\"}], \"scattercarpet\": [{\"marker\": {\"colorbar\": {\"outlinewidth\": 0, \"ticks\": \"\"}}, \"type\": \"scattercarpet\"}], \"scattergeo\": [{\"marker\": {\"colorbar\": {\"outlinewidth\": 0, \"ticks\": \"\"}}, \"type\": \"scattergeo\"}], \"scattergl\": [{\"marker\": {\"colorbar\": {\"outlinewidth\": 0, \"ticks\": \"\"}}, \"type\": \"scattergl\"}], \"scattermapbox\": [{\"marker\": {\"colorbar\": {\"outlinewidth\": 0, \"ticks\": \"\"}}, \"type\": \"scattermapbox\"}], \"scatterpolar\": [{\"marker\": {\"colorbar\": {\"outlinewidth\": 0, \"ticks\": \"\"}}, \"type\": \"scatterpolar\"}], \"scatterpolargl\": [{\"marker\": {\"colorbar\": {\"outlinewidth\": 0, \"ticks\": \"\"}}, \"type\": \"scatterpolargl\"}], \"scatterternary\": [{\"marker\": {\"colorbar\": {\"outlinewidth\": 0, \"ticks\": \"\"}}, \"type\": \"scatterternary\"}], \"surface\": [{\"colorbar\": {\"outlinewidth\": 0, \"ticks\": \"\"}, \"colorscale\": [[0.0, \"#0d0887\"], [0.1111111111111111, \"#46039f\"], [0.2222222222222222, \"#7201a8\"], [0.3333333333333333, \"#9c179e\"], [0.4444444444444444, \"#bd3786\"], [0.5555555555555556, \"#d8576b\"], [0.6666666666666666, \"#ed7953\"], [0.7777777777777778, \"#fb9f3a\"], [0.8888888888888888, \"#fdca26\"], [1.0, \"#f0f921\"]], \"type\": \"surface\"}], \"table\": [{\"cells\": {\"fill\": {\"color\": \"#EBF0F8\"}, \"line\": {\"color\": \"white\"}}, \"header\": {\"fill\": {\"color\": \"#C8D4E3\"}, \"line\": {\"color\": \"white\"}}, \"type\": \"table\"}]}, \"layout\": {\"annotationdefaults\": {\"arrowcolor\": \"#2a3f5f\", \"arrowhead\": 0, \"arrowwidth\": 1}, \"coloraxis\": {\"colorbar\": {\"outlinewidth\": 0, \"ticks\": \"\"}}, \"colorscale\": {\"diverging\": [[0, \"#8e0152\"], [0.1, \"#c51b7d\"], [0.2, \"#de77ae\"], [0.3, \"#f1b6da\"], [0.4, \"#fde0ef\"], [0.5, \"#f7f7f7\"], [0.6, \"#e6f5d0\"], [0.7, \"#b8e186\"], [0.8, \"#7fbc41\"], [0.9, \"#4d9221\"], [1, \"#276419\"]], \"sequential\": [[0.0, \"#0d0887\"], [0.1111111111111111, \"#46039f\"], [0.2222222222222222, \"#7201a8\"], [0.3333333333333333, \"#9c179e\"], [0.4444444444444444, \"#bd3786\"], [0.5555555555555556, \"#d8576b\"], [0.6666666666666666, \"#ed7953\"], [0.7777777777777778, \"#fb9f3a\"], [0.8888888888888888, \"#fdca26\"], [1.0, \"#f0f921\"]], \"sequentialminus\": [[0.0, \"#0d0887\"], [0.1111111111111111, \"#46039f\"], [0.2222222222222222, \"#7201a8\"], [0.3333333333333333, \"#9c179e\"], [0.4444444444444444, \"#bd3786\"], [0.5555555555555556, \"#d8576b\"], [0.6666666666666666, \"#ed7953\"], [0.7777777777777778, \"#fb9f3a\"], [0.8888888888888888, \"#fdca26\"], [1.0, \"#f0f921\"]]}, \"colorway\": [\"#636efa\", \"#EF553B\", \"#00cc96\", \"#ab63fa\", \"#FFA15A\", \"#19d3f3\", \"#FF6692\", \"#B6E880\", \"#FF97FF\", \"#FECB52\"], \"font\": {\"color\": \"#2a3f5f\"}, \"geo\": {\"bgcolor\": \"white\", \"lakecolor\": \"white\", \"landcolor\": \"#E5ECF6\", \"showlakes\": true, \"showland\": true, \"subunitcolor\": \"white\"}, \"hoverlabel\": {\"align\": \"left\"}, \"hovermode\": \"closest\", \"mapbox\": {\"style\": \"light\"}, \"paper_bgcolor\": \"white\", \"plot_bgcolor\": \"#E5ECF6\", \"polar\": {\"angularaxis\": {\"gridcolor\": \"white\", \"linecolor\": \"white\", \"ticks\": \"\"}, \"bgcolor\": \"#E5ECF6\", \"radialaxis\": {\"gridcolor\": \"white\", \"linecolor\": \"white\", \"ticks\": \"\"}}, \"scene\": {\"xaxis\": {\"backgroundcolor\": \"#E5ECF6\", \"gridcolor\": \"white\", \"gridwidth\": 2, \"linecolor\": \"white\", \"showbackground\": true, \"ticks\": \"\", \"zerolinecolor\": \"white\"}, \"yaxis\": {\"backgroundcolor\": \"#E5ECF6\", \"gridcolor\": \"white\", \"gridwidth\": 2, \"linecolor\": \"white\", \"showbackground\": true, \"ticks\": \"\", \"zerolinecolor\": \"white\"}, \"zaxis\": {\"backgroundcolor\": \"#E5ECF6\", \"gridcolor\": \"white\", \"gridwidth\": 2, \"linecolor\": \"white\", \"showbackground\": true, \"ticks\": \"\", \"zerolinecolor\": \"white\"}}, \"shapedefaults\": {\"line\": {\"color\": \"#2a3f5f\"}}, \"ternary\": {\"aaxis\": {\"gridcolor\": \"white\", \"linecolor\": \"white\", \"ticks\": \"\"}, \"baxis\": {\"gridcolor\": \"white\", \"linecolor\": \"white\", \"ticks\": \"\"}, \"bgcolor\": \"#E5ECF6\", \"caxis\": {\"gridcolor\": \"white\", \"linecolor\": \"white\", \"ticks\": \"\"}}, \"title\": {\"x\": 0.05}, \"xaxis\": {\"automargin\": true, \"gridcolor\": \"white\", \"linecolor\": \"white\", \"ticks\": \"\", \"title\": {\"standoff\": 15}, \"zerolinecolor\": \"white\", \"zerolinewidth\": 2}, \"yaxis\": {\"automargin\": true, \"gridcolor\": \"white\", \"linecolor\": \"white\", \"ticks\": \"\", \"title\": {\"standoff\": 15}, \"zerolinecolor\": \"white\", \"zerolinewidth\": 2}}}},\n",
       "                        {\"responsive\": true}\n",
       "                    ).then(function(){\n",
       "                            \n",
       "var gd = document.getElementById('30291118-d844-4567-a615-dc24f47ab3b4');\n",
       "var x = new MutationObserver(function (mutations, observer) {{\n",
       "        var display = window.getComputedStyle(gd).display;\n",
       "        if (!display || display === 'none') {{\n",
       "            console.log([gd, 'removed!']);\n",
       "            Plotly.purge(gd);\n",
       "            observer.disconnect();\n",
       "        }}\n",
       "}});\n",
       "\n",
       "// Listen for the removal of the full notebook cells\n",
       "var notebookContainer = gd.closest('#notebook-container');\n",
       "if (notebookContainer) {{\n",
       "    x.observe(notebookContainer, {childList: true});\n",
       "}}\n",
       "\n",
       "// Listen for the clearing of the current output cell\n",
       "var outputEl = gd.closest('.output');\n",
       "if (outputEl) {{\n",
       "    x.observe(outputEl, {childList: true});\n",
       "}}\n",
       "\n",
       "                        })\n",
       "                };\n",
       "                });\n",
       "            </script>\n",
       "        </div>"
      ]
     },
     "metadata": {},
     "output_type": "display_data"
    }
   ],
   "source": [
    "Sierra_Leonea = df3[df3['country']=='Sierra Leone']\n",
    "Mali = df3[df3['country']=='Mali']\n",
    "South_Sudan = df3[df3['country']=='South Sudan']\n",
    "Niger = df3[df3['country']=='Niger']\n",
    "Nigeria = df3[df3['country']=='Nigeria']\n",
    "Central_African_Republic = df3[df3['country']=='Central African Republic']\n",
    "Chad = df3[df3['country']=='Chad']\n",
    "Malawi = df3[df3['country']=='Malawi']\n",
    "Angola = df3[df3['country']=='Angola']\n",
    "Mozambique = df3[df3['country']=='Mozambique']    \n",
    "\n",
    "box1 = go.Box(\n",
    "                y= Sierra_Leonea.life_expectancy_at_birth,\n",
    "                name= 'Sierra Leone',\n",
    "                marker = dict(color = 'rgb(124, 205, 124)'),\n",
    "                boxmean='sd',\n",
    "                boxpoints='all')\n",
    "box2 = go.Box(\n",
    "                y= Mali.life_expectancy_at_birth,\n",
    "                name= 'Mali',\n",
    "                marker = dict(color = 'rgb(84, 139, 84)'),\n",
    "                boxmean='sd',\n",
    "                boxpoints='all')\n",
    "\n",
    "box3 = go.Box(\n",
    "                y= South_Sudan.life_expectancy_at_birth,\n",
    "                name= 'South Sudan',\n",
    "                marker = dict(color = 'rgb(144, 238, 144)'),\n",
    "                boxmean='sd',\n",
    "                boxpoints='all')\n",
    "box4 = go.Box(\n",
    "                y= Niger.life_expectancy_at_birth,\n",
    "                name= 'Niger',\n",
    "                marker = dict(color = 'rgb(0, 238, 118)'),\n",
    "                boxmean='sd',\n",
    "                boxpoints='all')\n",
    "box5 = go.Box(\n",
    "                y= Nigeria.life_expectancy_at_birth,\n",
    "                name= 'Nigeria',\n",
    "                marker = dict(color = 'rgb(0, 205, 102)'),\n",
    "                boxmean='sd',\n",
    "                boxpoints='all')\n",
    "\n",
    "box6 = go.Box(\n",
    "                y= Central_African_Republic.life_expectancy_at_birth,\n",
    "                name= 'Central African Republic',\n",
    "                marker = dict(color = 'rgb(0, 139, 69)'),\n",
    "                boxmean='sd',\n",
    "                boxpoints='all')\n",
    "box7 = go.Box(\n",
    "                y= Chad.life_expectancy_at_birth,\n",
    "                name= 'Chad',\n",
    "                marker = dict(color = 'rgb(0, 255, 0)'),\n",
    "                boxmean='sd',\n",
    "                boxpoints='all')\n",
    "\n",
    "box8 = go.Box(\n",
    "                y= Malawi.life_expectancy_at_birth,\n",
    "                name= 'Malawi',\n",
    "                marker = dict(color = 'rgb(0, 205, 0)'),\n",
    "                boxmean='sd',\n",
    "                boxpoints='all')\n",
    "box9 = go.Box(\n",
    "                y= Angola.life_expectancy_at_birth,\n",
    "                name= 'Angola',\n",
    "                marker = dict(color = 'rgb(0, 139, 0)'),\n",
    "                boxmean='sd',\n",
    "                boxpoints='all')\n",
    "box10 = go.Box(\n",
    "                y= Mozambique.life_expectancy_at_birth,\n",
    "                name= 'Mozambique',\n",
    "                marker = dict(color = 'rgb(102, 205, 0)'),\n",
    "                boxmean='sd',\n",
    "                boxpoints='all')\n",
    "\n",
    "data_boxes = [box1,box2,box3,box4,box5,box6,box7,box8,box9,box10]\n",
    "iplot(data_boxes)\n",
    "\n",
    "\n",
    "San_Marino = df3[df3['country']=='San Marino']\n",
    "Cayman_Islands = df3[df3['country']=='Cayman Islands']\n",
    "Liechtenstein = df3[df3['country']=='Liechtenstein']\n",
    "Faroe_Islands = df3[df3['country']=='Faroe Islands']\n",
    "Bermuda = df3[df3['country']=='Bermuda']\n",
    "Iceland = df3[df3['country']=='Iceland']\n",
    "Japan = df3[df3['country']=='Japan']\n",
    "Sweden = df3[df3['country']=='Sweden']\n",
    "Switzerland = df3[df3['country']=='Switzerland']\n",
    "Isle_of_Man = df3[df3['country']=='Isle of Man']\n",
    "\n",
    "# 'Iceland', 'Japan', 'Sweden', 'Switzerland', 'Isle of Man'\n",
    "\n",
    "box1 = go.Box(\n",
    "                y= San_Marino.life_expectancy_at_birth,\n",
    "                name= 'San Marino',\n",
    "                marker = dict(color = 'rgb(0, 0, 128)'),\n",
    "                boxmean='sd',\n",
    "                boxpoints='all')\n",
    "box2 = go.Box(\n",
    "                y= Cayman_Islands.life_expectancy_at_birth,\n",
    "                name= 'Cayman Islands',\n",
    "                marker = dict(color = 'rgb(100, 149, 237)'),\n",
    "                boxmean='sd',\n",
    "                boxpoints='all')\n",
    "box3 = go.Box(\n",
    "                y= Liechtenstein.life_expectancy_at_birth,\n",
    "                name= 'Liechtenstein',\n",
    "                marker = dict(color = 'rgb(72, 61, 139)'),\n",
    "                boxmean='sd',\n",
    "                boxpoints='all')\n",
    "box4 = go.Box(\n",
    "                y= Faroe_Islands.life_expectancy_at_birth,\n",
    "                name= 'Faroe Islands',\n",
    "                marker = dict(color = 'rgb(123, 104, 238)'),\n",
    "                boxmean='sd',\n",
    "                boxpoints='all')\n",
    "box5 = go.Box(\n",
    "                y= Bermuda.life_expectancy_at_birth,\n",
    "                name= 'Bermuda',\n",
    "                marker = dict(color = 'rgb(65, 105, 225)'),\n",
    "                boxmean='sd',\n",
    "                boxpoints='all')\n",
    "\n",
    "box6 = go.Box(\n",
    "                y= Iceland.life_expectancy_at_birth,\n",
    "                name= 'Iceland',\n",
    "                marker = dict(color = 'rgb(0, 0, 255)'),\n",
    "                boxmean='sd',\n",
    "                boxpoints='all')\n",
    "box7 = go.Box(\n",
    "                y= Japan.life_expectancy_at_birth,\n",
    "                name= 'Japan',\n",
    "                marker = dict(color = 'rgb(30, 144, 255)'),\n",
    "                boxmean='sd',\n",
    "                boxpoints='all')\n",
    "box8 = go.Box(\n",
    "                y= Sweden.life_expectancy_at_birth,\n",
    "                name= 'Sweden',\n",
    "                marker = dict(color = 'rgb(0, 191, 255)'),\n",
    "                boxmean='sd',\n",
    "                boxpoints='all')\n",
    "box9 = go.Box(\n",
    "                y= Switzerland.life_expectancy_at_birth,\n",
    "                name= 'Switzerland',\n",
    "                marker = dict(color = 'rgb(135, 206, 250)'),\n",
    "                boxmean='sd',\n",
    "                boxpoints='all')\n",
    "box10 = go.Box(\n",
    "                y= Isle_of_Man.life_expectancy_at_birth,\n",
    "                name= 'Isle of Man',\n",
    "                marker = dict(color = 'rgb(70, 130, 1805)'),\n",
    "                boxmean='sd',\n",
    "                boxpoints='all')\n",
    "\n",
    "data_boxes = [box1,box2,box3,box4,box5,box6,box7,box8,box9,box10]\n",
    "iplot(data_boxes)"
   ]
  },
  {
   "cell_type": "markdown",
   "metadata": {},
   "source": [
    "### The chart above is generate based on df3, using top 10 and tail 10 countries' Life Expectancy at Birth (LE) data, with the first one using tail 10s' LE and second one using top 10s' LE. We could view that, 1) All tail 10 countries' LE is between 28 and 64, and all top 10 countries' LE is between 68 and 85. And the change interval for top 10 countries' LE is much smaller than that for the tail 10 countries' LE. 2) For most tail 10 countries' LE, it increased slowly in first several years, while the increase rate turns larger after certain time points. And for most top 10 countries' LE, it increased quickly in first several years, while the increase rate turns smaller after certain time points. 3) There are three countries from the top 10 have very limit data points, and further supporting data should be collected to clarify the life expectancy of birth status for those countries."
   ]
  }
 ],
 "metadata": {
  "kernelspec": {
   "display_name": "Python 3",
   "language": "python",
   "name": "python3"
  },
  "language_info": {
   "codemirror_mode": {
    "name": "ipython",
    "version": 3
   },
   "file_extension": ".py",
   "mimetype": "text/x-python",
   "name": "python",
   "nbconvert_exporter": "python",
   "pygments_lexer": "ipython3",
   "version": "3.7.3"
  }
 },
 "nbformat": 4,
 "nbformat_minor": 2
}
